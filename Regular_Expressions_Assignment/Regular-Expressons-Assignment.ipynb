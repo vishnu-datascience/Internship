{
 "cells": [
  {
   "cell_type": "markdown",
   "id": "545775d9",
   "metadata": {},
   "source": [
    "#  PROGRAMME ANSWER SHEET with Regular Expressions"
   ]
  },
  {
   "cell_type": "markdown",
   "id": "73777221",
   "metadata": {},
   "source": [
    "# Ans 1"
   ]
  },
  {
   "cell_type": "code",
   "execution_count": 3,
   "id": "19074580",
   "metadata": {},
   "outputs": [
    {
     "name": "stdout",
     "output_type": "stream",
     "text": [
      "Python:Exercises::PHP:exercises:\n"
     ]
    }
   ],
   "source": [
    "import re\n",
    "text = 'Python Exercises, PHP exercises.'\n",
    "pattern = r'[\\s,\\.]'\n",
    "matches = re.sub(pattern,':',text)\n",
    "print(matches)"
   ]
  },
  {
   "cell_type": "markdown",
   "id": "2d2dd9d6",
   "metadata": {},
   "source": [
    "# Ans 2"
   ]
  },
  {
   "cell_type": "code",
   "execution_count": 6,
   "id": "729ca446",
   "metadata": {},
   "outputs": [
    {
     "name": "stdout",
     "output_type": "stream",
     "text": [
      "0        hello word \n",
      "1         xxxxx test\n",
      "2     four five six \n",
      "Name: SUMMARY, dtype: object\n"
     ]
    }
   ],
   "source": [
    "import pandas as pd \n",
    "import re\n",
    "Dictionary = {'SUMMARY':['hello,word!','xxxxx test','123four,five:;six....']}\n",
    "df = pd.DataFrame(Dictionary)\n",
    "df = df['SUMMARY'].str.replace('[^A-Za-z\\s]+',' ',regex= True)\n",
    "print(df)"
   ]
  },
  {
   "cell_type": "markdown",
   "id": "f56d08f0",
   "metadata": {},
   "source": [
    "# Ans 3"
   ]
  },
  {
   "cell_type": "code",
   "execution_count": 17,
   "id": "759d2509",
   "metadata": {},
   "outputs": [
    {
     "name": "stdout",
     "output_type": "stream",
     "text": [
      "['Name', 'Vishnu', 'Kumar', 'Prajapat', 'with', 'friends', 'other', 'friends', 'ajay', 'singh']\n"
     ]
    }
   ],
   "source": [
    "import re\n",
    "def find_word(string):\n",
    "    pattern = re.compile(r'\\b\\w{4,}\\b')\n",
    "    matches = re.findall(pattern,string)\n",
    "    return matches\n",
    "\n",
    "string = \"My Name Vishnu Kumar Prajapat with My friends and my other friends ajay singh\"\n",
    "result = find_word(string)    \n",
    "print(result)"
   ]
  },
  {
   "cell_type": "markdown",
   "id": "d58f7fbc",
   "metadata": {},
   "source": [
    "# Ans 4"
   ]
  },
  {
   "cell_type": "code",
   "execution_count": 20,
   "id": "45facb8b",
   "metadata": {},
   "outputs": [
    {
     "name": "stdout",
     "output_type": "stream",
     "text": [
      "['Name', 'vishn', 'kumar', 'praja', 'with', 'frien', 'and', 'other', 'frien', 'ajay', 'sing']\n"
     ]
    }
   ],
   "source": [
    "import re\n",
    "def find_all_words(text):\n",
    "    pattern = re.compile(r'\\b\\w{3,5}')\n",
    "    match = re.findall(pattern,text)\n",
    "    return match\n",
    "                         \n",
    "text = \"My Name is vishnu kumar prajapt with my friends and other my friends ajay sing\"\n",
    "output = find_all_words(text)\n",
    "print(output)                        "
   ]
  },
  {
   "cell_type": "markdown",
   "id": "4b5dcdfe",
   "metadata": {},
   "source": [
    "# Ans 7"
   ]
  },
  {
   "cell_type": "code",
   "execution_count": 22,
   "id": "76a57827",
   "metadata": {},
   "outputs": [
    {
     "name": "stdout",
     "output_type": "stream",
     "text": [
      "['Importance', 'Of', 'Regular', 'Expression', 'In', 'Python']\n"
     ]
    }
   ],
   "source": [
    "text = \"ImportanceOfRegularExpressionInPython\"\n",
    "pattern = r\"[A-Z][^A-Z]*\"\n",
    "matches = re.findall(pattern,text)\n",
    "print(matches)"
   ]
  },
  {
   "cell_type": "markdown",
   "id": "3590a1f9",
   "metadata": {},
   "source": [
    "# Ans 8"
   ]
  },
  {
   "cell_type": "code",
   "execution_count": 25,
   "id": "fb7238bc",
   "metadata": {},
   "outputs": [
    {
     "name": "stdout",
     "output_type": "stream",
     "text": [
      "RegularExpression 1IsAn 2ImportantTopic 3InPython\n"
     ]
    }
   ],
   "source": [
    "import re\n",
    "def space_between(text):\n",
    "    pattern = r'([A-Za-z]+)(\\d+)'\n",
    "    result = re.sub(pattern,r'\\1 \\2',text)\n",
    "    return result\n",
    "\n",
    "data = \"RegularExpression1IsAn2ImportantTopic3InPython\"\n",
    "result = space_between(data)\n",
    "print(result)"
   ]
  },
  {
   "cell_type": "markdown",
   "id": "afd780b2",
   "metadata": {},
   "source": [
    "# Ans 9"
   ]
  },
  {
   "cell_type": "code",
   "execution_count": 26,
   "id": "45b79af3",
   "metadata": {},
   "outputs": [
    {
     "name": "stdout",
     "output_type": "stream",
     "text": [
      " RegularExpression 1 IsAn 2 ImportantTopic 3InPython\n"
     ]
    }
   ],
   "source": [
    "import re\n",
    "def insert_space(Data):\n",
    "    pattern = r'([A-za-z]+)(\\d+)'\n",
    "    results = re.sub(pattern,r' \\1 \\2',Data)\n",
    "    return results\n",
    "\n",
    "Data = \"RegularExpression1IsAn2ImportantTopic3InPython\"\n",
    "expected_output = insert_space(Data)\n",
    "print(expected_output)"
   ]
  },
  {
   "cell_type": "markdown",
   "id": "a670297a",
   "metadata": {},
   "source": [
    "# Ans 10"
   ]
  },
  {
   "cell_type": "code",
   "execution_count": 27,
   "id": "40a57d67",
   "metadata": {},
   "outputs": [
    {
     "name": "stdout",
     "output_type": "stream",
     "text": [
      "                      Country                           Region  Happiness Rank  Happiness Score  Standard Error  Economy (GDP per Capita)   Family  Health (Life Expectancy)  Freedom  Trust (Government Corruption)  Generosity  Dystopia Residual\n",
      "0                 Switzerland                   Western Europe               1            7.587         0.03411                   1.39651  1.34951                   0.94143  0.66557                        0.41978     0.29678            2.51738\n",
      "1                     Iceland                   Western Europe               2            7.561         0.04884                   1.30232  1.40223                   0.94784  0.62877                        0.14145     0.43630            2.70201\n",
      "2                     Denmark                   Western Europe               3            7.527         0.03328                   1.32548  1.36058                   0.87464  0.64938                        0.48357     0.34139            2.49204\n",
      "3                      Norway                   Western Europe               4            7.522         0.03880                   1.45900  1.33095                   0.88521  0.66973                        0.36503     0.34699            2.46531\n",
      "4                      Canada                    North America               5            7.427         0.03553                   1.32629  1.32261                   0.90563  0.63297                        0.32957     0.45811            2.45176\n",
      "5                     Finland                   Western Europe               6            7.406         0.03140                   1.29025  1.31826                   0.88911  0.64169                        0.41372     0.23351            2.61955\n",
      "6                 Netherlands                   Western Europe               7            7.378         0.02799                   1.32944  1.28017                   0.89284  0.61576                        0.31814     0.47610            2.46570\n",
      "7                      Sweden                   Western Europe               8            7.364         0.03157                   1.33171  1.28907                   0.91087  0.65980                        0.43844     0.36262            2.37119\n",
      "8                 New Zealand        Australia and New Zealand               9            7.286         0.03371                   1.25018  1.31967                   0.90837  0.63938                        0.42922     0.47501            2.26425\n",
      "9                   Australia        Australia and New Zealand              10            7.284         0.04083                   1.33358  1.30923                   0.93156  0.65124                        0.35637     0.43562            2.26646\n",
      "10                     Israel  Middle East and Northern Africa              11            7.278         0.03470                   1.22857  1.22393                   0.91387  0.41319                        0.07785     0.33172            3.08854\n",
      "11                 Costa Rica      Latin America and Caribbean              12            7.226         0.04454                   0.95578  1.23788                   0.86027  0.63376                        0.10583     0.25497            3.17728\n",
      "12                    Austria                   Western Europe              13            7.200         0.03751                   1.33723  1.29704                   0.89042  0.62433                        0.18676     0.33088            2.53320\n",
      "13                     Mexico      Latin America and Caribbean              14            7.187         0.04176                   1.02054  0.91451                   0.81444  0.48181                        0.21312     0.14074            3.60214\n",
      "14              United States                    North America              15            7.119         0.03839                   1.39451  1.24711                   0.86179  0.54604                        0.15890     0.40105            2.51011\n",
      "15                     Brazil      Latin America and Caribbean              16            6.983         0.04076                   0.98124  1.23287                   0.69702  0.49049                        0.17521     0.14574            3.26001\n",
      "16                 Luxembourg                   Western Europe              17            6.946         0.03499                   1.56391  1.21963                   0.91894  0.61583                        0.37798     0.28034            1.96961\n",
      "17                    Ireland                   Western Europe              18            6.940         0.03676                   1.33596  1.36948                   0.89533  0.61777                        0.28703     0.45901            1.97570\n",
      "18                    Belgium                   Western Europe              19            6.937         0.03595                   1.30782  1.28566                   0.89667  0.58450                        0.22540     0.22250            2.41484\n",
      "19       United Arab Emirates  Middle East and Northern Africa              20            6.901         0.03729                   1.42727  1.12575                   0.80925  0.64157                        0.38583     0.26428            2.24743\n",
      "20             United Kingdom                   Western Europe              21            6.867         0.01866                   1.26637  1.28548                   0.90943  0.59625                        0.32067     0.51912            1.96994\n",
      "21                       Oman  Middle East and Northern Africa              22            6.853         0.05335                   1.36011  1.08182                   0.76276  0.63274                        0.32524     0.21542            2.47489\n",
      "22                  Venezuela      Latin America and Caribbean              23            6.810         0.06476                   1.04424  1.25596                   0.72052  0.42908                        0.11069     0.05841            3.19131\n",
      "23                  Singapore                Southeastern Asia              24            6.798         0.03780                   1.52186  1.02000                   1.02525  0.54252                        0.49210     0.31105            1.88501\n",
      "24                     Panama      Latin America and Caribbean              25            6.786         0.04910                   1.06353  1.19850                   0.79661  0.54210                        0.09270     0.24434            2.84848\n",
      "25                    Germany                   Western Europe              26            6.750         0.01848                   1.32792  1.29937                   0.89186  0.61477                        0.21843     0.28214            2.11569\n",
      "26                      Chile      Latin America and Caribbean              27            6.670         0.05800                   1.10715  1.12447                   0.85857  0.44132                        0.12869     0.33363            2.67585\n",
      "27                      Qatar  Middle East and Northern Africa              28            6.611         0.06257                   1.69042  1.07860                   0.79733  0.64040                        0.52208     0.32573            1.55674\n",
      "28                     France                   Western Europe              29            6.575         0.03512                   1.27778  1.26038                   0.94579  0.55011                        0.20646     0.12332            2.21126\n",
      "29                  Argentina      Latin America and Caribbean              30            6.574         0.04612                   1.05351  1.24823                   0.78723  0.44974                        0.08484     0.11451            2.83600\n",
      "30             Czech Republic       Central and Eastern Europe              31            6.505         0.04168                   1.17898  1.20643                   0.84483  0.46364                        0.02652     0.10686            2.67782\n",
      "31                    Uruguay      Latin America and Caribbean              32            6.485         0.04539                   1.06166  1.20890                   0.81160  0.60362                        0.24558     0.23240            2.32142\n",
      "32                   Colombia      Latin America and Caribbean              33            6.477         0.05051                   0.91861  1.24018                   0.69077  0.53466                        0.05120     0.18401            2.85737\n",
      "33                   Thailand                Southeastern Asia              34            6.455         0.03557                   0.96690  1.26504                   0.73850  0.55664                        0.03187     0.57630            2.31945\n",
      "34               Saudi Arabia  Middle East and Northern Africa              35            6.411         0.04633                   1.39541  1.08393                   0.72025  0.31048                        0.32524     0.13706            2.43872\n",
      "35                      Spain                   Western Europe              36            6.329         0.03468                   1.23011  1.31379                   0.95562  0.45951                        0.06398     0.18227            2.12367\n",
      "36                      Malta                   Western Europe              37            6.302         0.04206                   1.20740  1.30203                   0.88721  0.60365                        0.13586     0.51752            1.64880\n",
      "37                     Taiwan                     Eastern Asia              38            6.298         0.03868                   1.29098  1.07617                   0.87530  0.39740                        0.08129     0.25376            2.32323\n",
      "38                     Kuwait  Middle East and Northern Africa              39            6.295         0.04456                   1.55422  1.16594                   0.72492  0.55499                        0.25609     0.16228            1.87634\n",
      "39                   Suriname      Latin America and Caribbean              40            6.269         0.09811                   0.99534  0.97200                   0.60820  0.59657                        0.13633     0.16991            2.79094\n",
      "40        Trinidad and Tobago      Latin America and Caribbean              41            6.168         0.10895                   1.21183  1.18354                   0.61483  0.55884                        0.01140     0.31844            2.26882\n",
      "41                El Salvador      Latin America and Caribbean              42            6.130         0.05618                   0.76454  1.02507                   0.67737  0.40350                        0.11776     0.10692            3.03500\n",
      "42                  Guatemala      Latin America and Caribbean              43            6.123         0.05224                   0.74553  1.04356                   0.64425  0.57733                        0.09472     0.27489            2.74255\n",
      "43                 Uzbekistan       Central and Eastern Europe              44            6.003         0.04361                   0.63244  1.34043                   0.59772  0.65821                        0.30826     0.22837            2.23741\n",
      "44                   Slovakia       Central and Eastern Europe              45            5.995         0.04267                   1.16891  1.26999                   0.78902  0.31751                        0.03431     0.16893            2.24639\n",
      "45                      Japan                     Eastern Asia              46            5.987         0.03581                   1.27074  1.25712                   0.99111  0.49615                        0.18060     0.10705            1.68435\n",
      "46                South Korea                     Eastern Asia              47            5.984         0.04098                   1.24461  0.95774                   0.96538  0.33208                        0.07857     0.18557            2.21978\n",
      "47                    Ecuador      Latin America and Caribbean              48            5.975         0.04528                   0.86402  0.99903                   0.79075  0.48574                        0.18090     0.11541            2.53942\n",
      "48                    Bahrain  Middle East and Northern Africa              49            5.960         0.05412                   1.32376  1.21624                   0.74716  0.45492                        0.30600     0.17362            1.73797\n",
      "49                      Italy                   Western Europe              50            5.948         0.03914                   1.25114  1.19777                   0.95446  0.26236                        0.02901     0.22823            2.02518\n",
      "50                    Bolivia      Latin America and Caribbean              51            5.890         0.05642                   0.68133  0.97841                   0.53920  0.57414                        0.08800     0.20536            2.82334\n",
      "51                    Moldova       Central and Eastern Europe              52            5.889         0.03799                   0.59448  1.01528                   0.61826  0.32818                        0.01615     0.20951            3.10712\n",
      "52                   Paraguay      Latin America and Caribbean              53            5.878         0.04563                   0.75985  1.30477                   0.66098  0.53899                        0.08242     0.34240            2.18896\n",
      "53                 Kazakhstan       Central and Eastern Europe              54            5.855         0.04114                   1.12254  1.12241                   0.64368  0.51649                        0.08454     0.11827            2.24729\n",
      "54                   Slovenia       Central and Eastern Europe              55            5.848         0.04251                   1.18498  1.27385                   0.87337  0.60855                        0.03787     0.25328            1.61583\n",
      "55                  Lithuania       Central and Eastern Europe              56            5.833         0.03843                   1.14723  1.25745                   0.73128  0.21342                        0.01031     0.02641            2.44649\n",
      "56                  Nicaragua      Latin America and Caribbean              57            5.828         0.05371                   0.59325  1.14184                   0.74314  0.55475                        0.19317     0.27815            2.32407\n",
      "57                       Peru      Latin America and Caribbean              58            5.824         0.04615                   0.90019  0.97459                   0.73017  0.41496                        0.05989     0.14982            2.59450\n",
      "58                    Belarus       Central and Eastern Europe              59            5.813         0.03938                   1.03192  1.23289                   0.73608  0.37938                        0.19090     0.11046            2.13090\n",
      "59                     Poland       Central and Eastern Europe              60            5.791         0.04263                   1.12555  1.27948                   0.77903  0.53122                        0.04212     0.16759            1.86565\n",
      "60                   Malaysia                Southeastern Asia              61            5.770         0.04330                   1.12486  1.07023                   0.72394  0.53024                        0.10501     0.33075            1.88541\n",
      "61                    Croatia       Central and Eastern Europe              62            5.759         0.04394                   1.08254  0.79624                   0.78805  0.25883                        0.02430     0.05444            2.75414\n",
      "62                      Libya  Middle East and Northern Africa              63            5.754         0.07832                   1.13145  1.11862                   0.70380  0.41668                        0.11023     0.18295            2.09066\n",
      "63                     Russia       Central and Eastern Europe              64            5.716         0.03135                   1.13764  1.23617                   0.66926  0.36679                        0.03005     0.00199            2.27394\n",
      "64                    Jamaica      Latin America and Caribbean              65            5.709         0.13693                   0.81038  1.15102                   0.68741  0.50442                        0.02299     0.21230            2.32038\n",
      "65               North Cyprus                   Western Europe              66            5.695         0.05635                   1.20806  1.07008                   0.92356  0.49027                        0.14280     0.26169            1.59888\n",
      "66                     Cyprus                   Western Europe              67            5.689         0.05580                   1.20813  0.89318                   0.92356  0.40672                        0.06146     0.30638            1.88931\n",
      "67                    Algeria  Middle East and Northern Africa              68            5.605         0.05099                   0.93929  1.07772                   0.61766  0.28579                        0.17383     0.07822            2.43209\n",
      "68                     Kosovo       Central and Eastern Europe              69            5.589         0.05018                   0.80148  0.81198                   0.63132  0.24749                        0.04741     0.28310            2.76579\n",
      "69               Turkmenistan       Central and Eastern Europe              70            5.548         0.04175                   0.95847  1.22668                   0.53886  0.47610                        0.30844     0.16979            1.86984\n",
      "70                  Mauritius               Sub-Saharan Africa              71            5.477         0.07197                   1.00761  0.98521                   0.70950  0.56066                        0.07521     0.37744            1.76145\n",
      "71                  Hong Kong                     Eastern Asia              72            5.474         0.05051                   1.38604  1.05818                   1.01328  0.59608                        0.37124     0.39478            0.65429\n",
      "72                    Estonia       Central and Eastern Europe              73            5.429         0.04013                   1.15174  1.22791                   0.77361  0.44888                        0.15184     0.08680            1.58782\n",
      "73                  Indonesia                Southeastern Asia              74            5.399         0.02596                   0.82827  1.08708                   0.63793  0.46611                        0.00000     0.51535            1.86399\n",
      "74                    Vietnam                Southeastern Asia              75            5.360         0.03107                   0.63216  0.91226                   0.74676  0.59444                        0.10441     0.16860            2.20173\n",
      "75                     Turkey  Middle East and Northern Africa              76            5.332         0.03864                   1.06098  0.94632                   0.73172  0.22815                        0.15746     0.12253            2.08528\n",
      "76                 Kyrgyzstan       Central and Eastern Europe              77            5.286         0.03823                   0.47428  1.15115                   0.65088  0.43477                        0.04232     0.30030            2.23270\n",
      "77                    Nigeria               Sub-Saharan Africa              78            5.268         0.04192                   0.65435  0.90432                   0.16007  0.34334                        0.04030     0.27233            2.89319\n",
      "78                     Bhutan                    Southern Asia              79            5.253         0.03225                   0.77042  1.10395                   0.57407  0.53206                        0.15445     0.47998            1.63794\n",
      "79                 Azerbaijan       Central and Eastern Europe              80            5.212         0.03363                   1.02389  0.93793                   0.64045  0.37030                        0.16065     0.07799            2.00073\n",
      "80                   Pakistan                    Southern Asia              81            5.194         0.03726                   0.59543  0.41411                   0.51466  0.12102                        0.10464     0.33671            3.10709\n",
      "81                     Jordan  Middle East and Northern Africa              82            5.192         0.04524                   0.90198  1.05392                   0.69639  0.40661                        0.14293     0.11053            1.87996\n",
      "82                 Montenegro       Central and Eastern Europe              82            5.192         0.05235                   0.97438  0.90557                   0.72521  0.18260                        0.14296     0.16140            2.10017\n",
      "83                      China                     Eastern Asia              84            5.140         0.02424                   0.89012  0.94675                   0.81658  0.51697                        0.02781     0.08185            1.86040\n",
      "84                     Zambia               Sub-Saharan Africa              85            5.129         0.06988                   0.47038  0.91612                   0.29924  0.48827                        0.12468     0.19591            2.63430\n",
      "85                    Romania       Central and Eastern Europe              86            5.124         0.06607                   1.04345  0.88588                   0.76890  0.35068                        0.00649     0.13748            1.93129\n",
      "86                     Serbia       Central and Eastern Europe              87            5.123         0.04864                   0.92053  1.00964                   0.74836  0.20107                        0.02617     0.19231            2.02500\n",
      "87                   Portugal                   Western Europe              88            5.102         0.04802                   1.15991  1.13935                   0.87519  0.51469                        0.01078     0.13719            1.26462\n",
      "88                     Latvia       Central and Eastern Europe              89            5.098         0.04640                   1.11312  1.09562                   0.72437  0.29671                        0.06332     0.18226            1.62215\n",
      "89                Philippines                Southeastern Asia              90            5.073         0.04934                   0.70532  1.03516                   0.58114  0.62545                        0.12279     0.24991            1.75360\n",
      "90          Somaliland region               Sub-Saharan Africa              91            5.057         0.06161                   0.18847  0.95152                   0.43873  0.46582                        0.39928     0.50318            2.11032\n",
      "91                    Morocco  Middle East and Northern Africa              92            5.013         0.03420                   0.73479  0.64095                   0.60954  0.41691                        0.08546     0.07172            2.45373\n",
      "92                  Macedonia       Central and Eastern Europe              93            5.007         0.05376                   0.91851  1.00232                   0.73545  0.33457                        0.05327     0.22359            1.73933\n",
      "93                 Mozambique               Sub-Saharan Africa              94            4.971         0.07896                   0.08308  1.02626                   0.09131  0.34037                        0.15603     0.22269            3.05137\n",
      "94                    Albania       Central and Eastern Europe              95            4.959         0.05013                   0.87867  0.80434                   0.81325  0.35733                        0.06413     0.14272            1.89894\n",
      "95     Bosnia and Herzegovina       Central and Eastern Europe              96            4.949         0.06913                   0.83223  0.91916                   0.79081  0.09245                        0.00227     0.24808            2.06367\n",
      "96                    Lesotho               Sub-Saharan Africa              97            4.898         0.09438                   0.37545  1.04103                   0.07612  0.31767                        0.12504     0.16388            2.79832\n",
      "97         Dominican Republic      Latin America and Caribbean              98            4.885         0.07446                   0.89537  1.17202                   0.66825  0.57672                        0.14234     0.21684            1.21305\n",
      "98                       Laos                Southeastern Asia              99            4.876         0.06698                   0.59066  0.73803                   0.54909  0.59591                        0.24249     0.42192            1.73799\n",
      "99                   Mongolia                     Eastern Asia             100            4.874         0.03313                   0.82819  1.30060                   0.60268  0.43626                        0.02666     0.33230            1.34759\n",
      "100                 Swaziland               Sub-Saharan Africa             101            4.867         0.08742                   0.71206  1.07284                   0.07566  0.30658                        0.03060     0.18259            2.48676\n",
      "101                    Greece                   Western Europe             102            4.857         0.05062                   1.15406  0.92933                   0.88213  0.07699                        0.01397     0.00000            1.80101\n",
      "102                   Lebanon  Middle East and Northern Africa             103            4.839         0.04337                   1.02564  0.80001                   0.83947  0.33916                        0.04582     0.21854            1.57059\n",
      "103                   Hungary       Central and Eastern Europe             104            4.800         0.06107                   1.12094  1.20215                   0.75905  0.32112                        0.02758     0.12800            1.24074\n",
      "104                  Honduras      Latin America and Caribbean             105            4.788         0.05648                   0.59532  0.95348                   0.69510  0.40148                        0.06825     0.23027            1.84408\n",
      "105                Tajikistan       Central and Eastern Europe             106            4.786         0.03198                   0.39047  0.85563                   0.57379  0.47216                        0.15072     0.22974            2.11399\n",
      "106                   Tunisia  Middle East and Northern Africa             107            4.739         0.03589                   0.88113  0.60429                   0.73793  0.26268                        0.06358     0.06431            2.12466\n",
      "107   Palestinian Territories  Middle East and Northern Africa             108            4.715         0.04394                   0.59867  0.92558                   0.66015  0.24499                        0.12905     0.11251            2.04384\n",
      "108                Bangladesh                    Southern Asia             109            4.694         0.03077                   0.39753  0.43106                   0.60164  0.40820                        0.12569     0.21222            2.51767\n",
      "109                      Iran  Middle East and Northern Africa             110            4.686         0.04449                   1.00880  0.54447                   0.69805  0.30033                        0.05863     0.38086            1.69440\n",
      "110                   Ukraine       Central and Eastern Europe             111            4.681         0.04412                   0.79907  1.20278                   0.67390  0.25123                        0.02961     0.15275            1.57140\n",
      "111                      Iraq  Middle East and Northern Africa             112            4.677         0.05232                   0.98549  0.81889                   0.60237  0.00000                        0.13788     0.17922            1.95335\n",
      "112              South Africa               Sub-Saharan Africa             113            4.642         0.04585                   0.92049  1.18468                   0.27688  0.33207                        0.08884     0.11973            1.71956\n",
      "113                     Ghana               Sub-Saharan Africa             114            4.633         0.04742                   0.54558  0.67954                   0.40132  0.42342                        0.04355     0.23087            2.30919\n",
      "114                  Zimbabwe               Sub-Saharan Africa             115            4.610         0.04290                   0.27100  1.03276                   0.33475  0.25861                        0.08079     0.18987            2.44191\n",
      "115                   Liberia               Sub-Saharan Africa             116            4.571         0.11068                   0.07120  0.78968                   0.34201  0.28531                        0.06232     0.24362            2.77729\n",
      "116                     India                    Southern Asia             117            4.565         0.02043                   0.64499  0.38174                   0.51529  0.39786                        0.08492     0.26475            2.27513\n",
      "117                     Sudan               Sub-Saharan Africa             118            4.550         0.06740                   0.52107  1.01404                   0.36878  0.10081                        0.14660     0.19062            2.20857\n",
      "118                     Haiti      Latin America and Caribbean             119            4.518         0.07331                   0.26673  0.74302                   0.38847  0.24425                        0.17175     0.46187            2.24173\n",
      "119          Congo (Kinshasa)               Sub-Saharan Africa             120            4.517         0.03680                   0.00000  1.00120                   0.09806  0.22605                        0.07625     0.24834            2.86712\n",
      "120                     Nepal                    Southern Asia             121            4.514         0.03607                   0.35997  0.86449                   0.56874  0.38282                        0.05907     0.32296            1.95637\n",
      "121                  Ethiopia               Sub-Saharan Africa             122            4.512         0.03780                   0.19073  0.60406                   0.44055  0.43450                        0.15048     0.24325            2.44876\n",
      "122              Sierra Leone               Sub-Saharan Africa             123            4.507         0.07068                   0.33024  0.95571                   0.00000  0.40840                        0.08786     0.21488            2.51009\n",
      "123                Mauritania               Sub-Saharan Africa             124            4.436         0.03947                   0.45407  0.86908                   0.35874  0.24232                        0.17461     0.21900            2.11773\n",
      "124                     Kenya               Sub-Saharan Africa             125            4.419         0.04734                   0.36471  0.99876                   0.41435  0.42215                        0.05839     0.37542            1.78555\n",
      "125                  Djibouti               Sub-Saharan Africa             126            4.369         0.08096                   0.44025  0.59207                   0.36291  0.46074                        0.28105     0.18093            2.05125\n",
      "126                   Armenia       Central and Eastern Europe             127            4.350         0.04763                   0.76821  0.77711                   0.72990  0.19847                        0.03900     0.07855            1.75873\n",
      "127                  Botswana               Sub-Saharan Africa             128            4.332         0.04934                   0.99355  1.10464                   0.04776  0.49495                        0.12474     0.10461            1.46181\n",
      "128                   Myanmar                Southeastern Asia             129            4.307         0.04351                   0.27108  0.70905                   0.48246  0.44017                        0.19034     0.79588            1.41805\n",
      "129                   Georgia       Central and Eastern Europe             130            4.297         0.04221                   0.74190  0.38562                   0.72926  0.40577                        0.38331     0.05547            1.59541\n",
      "130                    Malawi               Sub-Saharan Africa             131            4.292         0.06130                   0.01604  0.41134                   0.22562  0.43054                        0.06977     0.33128            2.80791\n",
      "131                 Sri Lanka                    Southern Asia             132            4.271         0.03751                   0.83524  1.01905                   0.70806  0.53726                        0.09179     0.40828            0.67108\n",
      "132                  Cameroon               Sub-Saharan Africa             133            4.252         0.04678                   0.42250  0.88767                   0.23402  0.49309                        0.05786     0.20618            1.95071\n",
      "133                  Bulgaria       Central and Eastern Europe             134            4.218         0.04828                   1.01216  1.10614                   0.76649  0.30587                        0.00872     0.11921            0.89991\n",
      "134                     Egypt  Middle East and Northern Africa             135            4.194         0.03260                   0.88180  0.74700                   0.61712  0.17288                        0.06324     0.11291            1.59927\n",
      "135                     Yemen  Middle East and Northern Africa             136            4.077         0.04367                   0.54649  0.68093                   0.40064  0.35571                        0.07854     0.09131            1.92313\n",
      "136                    Angola               Sub-Saharan Africa             137            4.033         0.04758                   0.75778  0.86040                   0.16683  0.10384                        0.07122     0.12344            1.94939\n",
      "137                      Mali               Sub-Saharan Africa             138            3.995         0.05602                   0.26074  1.03526                   0.20583  0.38857                        0.12352     0.18798            1.79293\n",
      "138       Congo (Brazzaville)               Sub-Saharan Africa             139            3.989         0.06682                   0.67866  0.66290                   0.31051  0.41466                        0.11686     0.12388            1.68135\n",
      "139                   Comoros               Sub-Saharan Africa             140            3.956         0.04797                   0.23906  0.79273                   0.36315  0.22917                        0.19900     0.17441            1.95812\n",
      "140                    Uganda               Sub-Saharan Africa             141            3.931         0.04317                   0.21102  1.13299                   0.33861  0.45727                        0.07267     0.29066            1.42766\n",
      "141                   Senegal               Sub-Saharan Africa             142            3.904         0.03608                   0.36498  0.97619                   0.43540  0.36772                        0.10713     0.20843            1.44395\n",
      "142                     Gabon               Sub-Saharan Africa             143            3.896         0.04547                   1.06024  0.90528                   0.43372  0.31914                        0.11091     0.06822            0.99895\n",
      "143                     Niger               Sub-Saharan Africa             144            3.845         0.03602                   0.06940  0.77265                   0.29707  0.47692                        0.15639     0.19387            1.87877\n",
      "144                  Cambodia                Southeastern Asia             145            3.819         0.05069                   0.46038  0.62736                   0.61114  0.66246                        0.07247     0.40359            0.98195\n",
      "145                  Tanzania               Sub-Saharan Africa             146            3.781         0.05061                   0.28520  1.00268                   0.38215  0.32878                        0.05747     0.34377            1.38079\n",
      "146                Madagascar               Sub-Saharan Africa             147            3.681         0.03633                   0.20824  0.66801                   0.46721  0.19184                        0.08124     0.21333            1.85100\n",
      "147  Central African Republic               Sub-Saharan Africa             148            3.678         0.06112                   0.07850  0.00000                   0.06699  0.48879                        0.08289     0.23835            2.72230\n",
      "148                      Chad               Sub-Saharan Africa             149            3.667         0.03830                   0.34193  0.76062                   0.15010  0.23501                        0.05269     0.18386            1.94296\n",
      "149                    Guinea               Sub-Saharan Africa             150            3.656         0.03590                   0.17417  0.46475                   0.24009  0.37725                        0.12139     0.28657            1.99172\n",
      "150               Ivory Coast               Sub-Saharan Africa             151            3.655         0.05141                   0.46534  0.77115                   0.15185  0.46866                        0.17922     0.20165            1.41723\n",
      "151              Burkina Faso               Sub-Saharan Africa             152            3.587         0.04324                   0.25812  0.85188                   0.27125  0.39493                        0.12832     0.21747            1.46494\n",
      "152               Afghanistan                    Southern Asia             153            3.575         0.03084                   0.31982  0.30285                   0.30335  0.23414                        0.09719     0.36510            1.95210\n",
      "153                    Rwanda               Sub-Saharan Africa             154            3.465         0.03464                   0.22208  0.77370                   0.42864  0.59201                        0.55191     0.22628            0.67042\n",
      "154                     Benin               Sub-Saharan Africa             155            3.340         0.03656                   0.28665  0.35386                   0.31910  0.48450                        0.08010     0.18260            1.63328\n",
      "155                     Syria  Middle East and Northern Africa             156            3.006         0.05015                   0.66320  0.47489                   0.72193  0.15684                        0.18906     0.47179            0.32858\n",
      "156                   Burundi               Sub-Saharan Africa             157            2.905         0.08658                   0.01530  0.41587                   0.22396  0.11850                        0.10062     0.19727            1.83302\n",
      "157                      Togo               Sub-Saharan Africa             158            2.839         0.06727                   0.20868  0.13995                   0.28443  0.36453                        0.10731     0.16681            1.56726\n"
     ]
    }
   ],
   "source": [
    "link = \"https://raw.githubusercontent.com/dsrscientist/DSData/master/happiness_score_dataset.csv\"\n",
    "df = pd.read_csv(link)\n",
    "print(df.to_string())"
   ]
  },
  {
   "cell_type": "code",
   "execution_count": 28,
   "id": "7a20a1f6",
   "metadata": {},
   "outputs": [
    {
     "name": "stdout",
     "output_type": "stream",
     "text": [
      "         Country                           Region  Happiness Rank  \\\n",
      "0    Switzerland                   Western Europe               1   \n",
      "1        Iceland                   Western Europe               2   \n",
      "2        Denmark                   Western Europe               3   \n",
      "3         Norway                   Western Europe               4   \n",
      "4         Canada                    North America               5   \n",
      "..           ...                              ...             ...   \n",
      "153       Rwanda               Sub-Saharan Africa             154   \n",
      "154        Benin               Sub-Saharan Africa             155   \n",
      "155        Syria  Middle East and Northern Africa             156   \n",
      "156      Burundi               Sub-Saharan Africa             157   \n",
      "157         Togo               Sub-Saharan Africa             158   \n",
      "\n",
      "     Happiness Score  Standard Error  Economy (GDP per Capita)   Family  \\\n",
      "0              7.587         0.03411                   1.39651  1.34951   \n",
      "1              7.561         0.04884                   1.30232  1.40223   \n",
      "2              7.527         0.03328                   1.32548  1.36058   \n",
      "3              7.522         0.03880                   1.45900  1.33095   \n",
      "4              7.427         0.03553                   1.32629  1.32261   \n",
      "..               ...             ...                       ...      ...   \n",
      "153            3.465         0.03464                   0.22208  0.77370   \n",
      "154            3.340         0.03656                   0.28665  0.35386   \n",
      "155            3.006         0.05015                   0.66320  0.47489   \n",
      "156            2.905         0.08658                   0.01530  0.41587   \n",
      "157            2.839         0.06727                   0.20868  0.13995   \n",
      "\n",
      "     Health (Life Expectancy)  Freedom  Trust (Government Corruption)  \\\n",
      "0                     0.94143  0.66557                        0.41978   \n",
      "1                     0.94784  0.62877                        0.14145   \n",
      "2                     0.87464  0.64938                        0.48357   \n",
      "3                     0.88521  0.66973                        0.36503   \n",
      "4                     0.90563  0.63297                        0.32957   \n",
      "..                        ...      ...                            ...   \n",
      "153                   0.42864  0.59201                        0.55191   \n",
      "154                   0.31910  0.48450                        0.08010   \n",
      "155                   0.72193  0.15684                        0.18906   \n",
      "156                   0.22396  0.11850                        0.10062   \n",
      "157                   0.28443  0.36453                        0.10731   \n",
      "\n",
      "     Generosity  Dystopia Residual first_six_letters  \n",
      "0       0.29678            2.51738            Switze  \n",
      "1       0.43630            2.70201            Icelan  \n",
      "2       0.34139            2.49204            Denmar  \n",
      "3       0.34699            2.46531            Norway  \n",
      "4       0.45811            2.45176            Canada  \n",
      "..          ...                ...               ...  \n",
      "153     0.22628            0.67042            Rwanda  \n",
      "154     0.18260            1.63328             Benin  \n",
      "155     0.47179            0.32858             Syria  \n",
      "156     0.19727            1.83302            Burund  \n",
      "157     0.16681            1.56726              Togo  \n",
      "\n",
      "[158 rows x 13 columns]\n"
     ]
    }
   ],
   "source": [
    "df['first_six_letters'] = df['Country'].apply(lambda y: y[:6])\n",
    "print(df)"
   ]
  },
  {
   "cell_type": "markdown",
   "id": "88a863a3",
   "metadata": {},
   "source": [
    "# Ans 11"
   ]
  },
  {
   "cell_type": "code",
   "execution_count": 29,
   "id": "60763e01",
   "metadata": {},
   "outputs": [
    {
     "name": "stdout",
     "output_type": "stream",
     "text": [
      "string matches the pattern\n"
     ]
    }
   ],
   "source": [
    "import re\n",
    "string = \"vishnu_kumar_prajapat201098\"\n",
    "pattern = 'r[a-zA-Z0-9]*$'\n",
    "matches = re.search(pattern,string)\n",
    "if matches:\n",
    "    print(\"string matches the pattern\")\n",
    "else:\n",
    "    print(\"String does not match the pattern\")"
   ]
  },
  {
   "cell_type": "markdown",
   "id": "ea8b3506",
   "metadata": {},
   "source": [
    "# Ans 12"
   ]
  },
  {
   "cell_type": "code",
   "execution_count": 32,
   "id": "d10db004",
   "metadata": {},
   "outputs": [
    {
     "name": "stdout",
     "output_type": "stream",
     "text": [
      "['@vishnu', '@kumar', '@home', '$karansing']\n"
     ]
    }
   ],
   "source": [
    "import re\n",
    "x = \"@vishnu_@kumar._prajapat @home $karansing\"\n",
    "pattern = r'\\W[A-Za-z0-9]+'\n",
    "find = re.findall(pattern,x)\n",
    "print(find)"
   ]
  },
  {
   "cell_type": "markdown",
   "id": "c87b8b25",
   "metadata": {},
   "source": [
    "# Ans 14"
   ]
  },
  {
   "cell_type": "code",
   "execution_count": 6,
   "id": "1bb6cf88",
   "metadata": {},
   "outputs": [
    {
     "name": "stdout",
     "output_type": "stream",
     "text": [
      "['August 15th 1947']\n"
     ]
    }
   ],
   "source": [
    "text_file = 'On August 15th 1947 that India was declared independent from British colonialism, and the reins of control were handed over to the leaders of the Country.'\n",
    "pattern = r'\\w{6} \\w{4} \\d{4}'\n",
    "find = re.findall(pattern,text_file)\n",
    "print(find)"
   ]
  },
  {
   "cell_type": "markdown",
   "id": "ce37ec5c",
   "metadata": {},
   "source": [
    "# Ans 15"
   ]
  },
  {
   "cell_type": "code",
   "execution_count": 31,
   "id": "eb3fd53a",
   "metadata": {},
   "outputs": [
    {
     "name": "stdout",
     "output_type": "stream",
     "text": [
      "['fox', 'dog']\n"
     ]
    }
   ],
   "source": [
    "import re\n",
    "a = \"The quick brown fox jumps over the lazy dog.\"\n",
    "pattern = r'fox|dog|horse'\n",
    "search = re.findall(pattern,a)\n",
    "print(search)"
   ]
  },
  {
   "cell_type": "markdown",
   "id": "08ff83b3",
   "metadata": {},
   "source": [
    "# Ans 16"
   ]
  },
  {
   "cell_type": "code",
   "execution_count": 4,
   "id": "9ce59727",
   "metadata": {},
   "outputs": [
    {
     "name": "stdout",
     "output_type": "stream",
     "text": [
      "<re.Match object; span=(16, 19), match='fox'>\n"
     ]
    }
   ],
   "source": [
    "import re\n",
    "y = \"The quick brown fox jumps over the lazy dog.\"\n",
    "pattern = r'fox'\n",
    "search = re.search(pattern,y)\n",
    "print(search)"
   ]
  },
  {
   "cell_type": "markdown",
   "id": "b269d90d",
   "metadata": {},
   "source": [
    "# Ans 17"
   ]
  },
  {
   "cell_type": "code",
   "execution_count": 5,
   "id": "9f9e4fe5",
   "metadata": {},
   "outputs": [
    {
     "name": "stdout",
     "output_type": "stream",
     "text": [
      "['exercises', 'exercises', 'exercises']\n"
     ]
    }
   ],
   "source": [
    "import re\n",
    "text = \"Python exercises, PHP exercises, c# exercises\"\n",
    "pattern = r'exercises'\n",
    "matches = re.findall(pattern,text)\n",
    "print(matches)"
   ]
  },
  {
   "cell_type": "markdown",
   "id": "9bb507b8",
   "metadata": {},
   "source": [
    "# Ans 18"
   ]
  },
  {
   "cell_type": "code",
   "execution_count": 6,
   "id": "5e59be0a",
   "metadata": {},
   "outputs": [
    {
     "name": "stdout",
     "output_type": "stream",
     "text": [
      "<re.Match object; span=(0, 2), match='On'>\n",
      "<re.Match object; span=(3, 9), match='August'>\n",
      "<re.Match object; span=(10, 14), match='15th'>\n",
      "<re.Match object; span=(15, 19), match='1947'>\n",
      "<re.Match object; span=(20, 24), match='that'>\n",
      "<re.Match object; span=(25, 30), match='India'>\n",
      "<re.Match object; span=(31, 33), match='wa'>\n",
      "<re.Match object; span=(34, 42), match='declared'>\n",
      "<re.Match object; span=(43, 54), match='independent'>\n",
      "<re.Match object; span=(55, 59), match='from'>\n",
      "<re.Match object; span=(60, 67), match='British'>\n",
      "<re.Match object; span=(68, 79), match='colonialism'>\n",
      "<re.Match object; span=(81, 84), match='and'>\n",
      "<re.Match object; span=(85, 88), match='the'>\n",
      "<re.Match object; span=(89, 94), match='reins'>\n",
      "<re.Match object; span=(95, 97), match='of'>\n",
      "<re.Match object; span=(98, 105), match='control'>\n",
      "<re.Match object; span=(106, 110), match='were'>\n",
      "<re.Match object; span=(111, 117), match='handed'>\n",
      "<re.Match object; span=(118, 122), match='over'>\n",
      "<re.Match object; span=(123, 125), match='to'>\n",
      "<re.Match object; span=(126, 129), match='the'>\n",
      "<re.Match object; span=(130, 137), match='leaders'>\n",
      "<re.Match object; span=(138, 140), match='of'>\n",
      "<re.Match object; span=(141, 144), match='the'>\n",
      "<re.Match object; span=(145, 152), match='Country'>\n"
     ]
    }
   ],
   "source": [
    "Sample_Text= \"On August 15th 1947 that India wa declared independent from British colonialism, and the reins of control were handed over to the leaders of the Country\"\n",
    "pattern = r'\\w+'\n",
    "matches = re.finditer(pattern,Sample_Text)\n",
    "\n",
    "for value in matches:\n",
    "    print(value)"
   ]
  },
  {
   "cell_type": "markdown",
   "id": "61192dee",
   "metadata": {},
   "source": [
    "#  Ans 19"
   ]
  },
  {
   "cell_type": "code",
   "execution_count": 31,
   "id": "99e993c6",
   "metadata": {},
   "outputs": [
    {
     "name": "stdout",
     "output_type": "stream",
     "text": [
      "14-12-2008)\n"
     ]
    }
   ],
   "source": [
    "from datetime import datetime\n",
    "convert_format = datetime.strptime(\"2008/12/14\", \"%Y/%m/%d\").strftime(\"%d-%m-%Y)\")\n",
    "print(convert_format)"
   ]
  },
  {
   "cell_type": "markdown",
   "id": "44a9ac06",
   "metadata": {},
   "source": [
    "# Ans 20"
   ]
  },
  {
   "cell_type": "code",
   "execution_count": 12,
   "id": "bde1fc61",
   "metadata": {},
   "outputs": [
    {
     "name": "stdout",
     "output_type": "stream",
     "text": [
      "['01.12', '132.12', '2.31', '145.8', '3.01', '27.25', '0.25']\n"
     ]
    }
   ],
   "source": [
    "import re\n",
    "def find_decimal_numbers(sample_text):\n",
    "    pattern = re.compile(r'\\d{1,3}\\.\\d{1,2}')\n",
    "    decimal_numbers = re.findall(pattern,sample_text)\n",
    "    return decimal_numbers\n",
    "\n",
    "sample_text = \"01.12 0132.123 2.31875 145.8 3.01 27.25 0.25\"\n",
    "decimal_number = find_decimal_numbers(sample_text)\n",
    "print(decimal_number)"
   ]
  },
  {
   "cell_type": "markdown",
   "id": "727d2d80",
   "metadata": {},
   "source": [
    "# Ans 21"
   ]
  },
  {
   "cell_type": "code",
   "execution_count": 15,
   "id": "68448b49",
   "metadata": {},
   "outputs": [
    {
     "name": "stdout",
     "output_type": "stream",
     "text": [
      "<re.Match object; span=(44, 46), match='26'>\n"
     ]
    }
   ],
   "source": [
    "import re\n",
    "string = 'My name is vishnu kumar prajapat and my age 26 Year'\n",
    "pattern = r'(\\d+)'\n",
    "find = re.finditer(pattern,string)\n",
    "\n",
    "for value in find:\n",
    "    print(value)"
   ]
  },
  {
   "cell_type": "markdown",
   "id": "79126707",
   "metadata": {},
   "source": [
    "#  Ans 22"
   ]
  },
  {
   "cell_type": "code",
   "execution_count": 2,
   "id": "88a5c329",
   "metadata": {},
   "outputs": [
    {
     "name": "stdout",
     "output_type": "stream",
     "text": [
      "950\n"
     ]
    }
   ],
   "source": [
    "import re\n",
    "Sample_Text = \"My marks in each semester are: 947, 896 926, 524, 734, 950, 642\"\n",
    "pattern = r'\\d+'\n",
    "matches = re.findall(pattern,Sample_Text)\n",
    "\n",
    "value = max(matches)\n",
    "print(value)"
   ]
  },
  {
   "cell_type": "markdown",
   "id": "f960689e",
   "metadata": {},
   "source": [
    "# Ans 23"
   ]
  },
  {
   "cell_type": "code",
   "execution_count": 3,
   "id": "6def464d",
   "metadata": {},
   "outputs": [
    {
     "name": "stdout",
     "output_type": "stream",
     "text": [
      "['Regular', 'Expression', 'Is', 'An', 'Important', 'Topic', 'In', 'Python']\n"
     ]
    }
   ],
   "source": [
    "import re\n",
    "stri = \"RegularExpressionIsAnImportantTopicInPython\"\n",
    "pattern = r\"[A-Z][^A-Z]*\"\n",
    "matches = re.findall(pattern,stri)\n",
    "print(matches)"
   ]
  },
  {
   "cell_type": "markdown",
   "id": "7bbaeccf",
   "metadata": {},
   "source": [
    "# Ans 24"
   ]
  },
  {
   "cell_type": "code",
   "execution_count": 16,
   "id": "a8f2e082",
   "metadata": {},
   "outputs": [
    {
     "name": "stdout",
     "output_type": "stream",
     "text": [
      "['Vishnu', 'Prajapt', 'Year', 'This']\n"
     ]
    }
   ],
   "source": [
    "import re\n",
    "text = \"Vishnu kumar Prajapt age 26 Year This is real information\"\n",
    "pattern = r'([A-Z][a-z]+)'\n",
    "list = re.findall(pattern,text)\n",
    "print(list)"
   ]
  },
  {
   "cell_type": "markdown",
   "id": "f47c741d",
   "metadata": {},
   "source": [
    "# Ans 25"
   ]
  },
  {
   "cell_type": "code",
   "execution_count": 2,
   "id": "1739cba8",
   "metadata": {},
   "outputs": [
    {
     "name": "stdout",
     "output_type": "stream",
     "text": [
      "Hello hello world\n"
     ]
    }
   ],
   "source": [
    "import re\n",
    "sample_text = \"Hello hello world world\"\n",
    "regex = r'\\b(\\w+)(?:\\W+\\1\\b)+'\n",
    "remove_duplicate = re.sub(regex,r'\\1',sample_text)\n",
    "print(remove_duplicate)"
   ]
  },
  {
   "cell_type": "markdown",
   "id": "aa30523d",
   "metadata": {},
   "source": [
    "# Ans 26"
   ]
  },
  {
   "cell_type": "code",
   "execution_count": 17,
   "id": "f7815e39",
   "metadata": {},
   "outputs": [
    {
     "name": "stdout",
     "output_type": "stream",
     "text": [
      "This String Is Alphanumeric\n"
     ]
    }
   ],
   "source": [
    "import re\n",
    "string = \"vishnu2010 kumar98 saurabh@ ajaysing\"\n",
    "pattern = r'[A-Za-z0-9]$'\n",
    "search = re.search(pattern,string)\n",
    "\n",
    "if search:\n",
    "    print(\"This String Is Alphanumeric\")\n",
    "else:\n",
    "    print(\"This String Is Not Alphanumeric\")"
   ]
  },
  {
   "cell_type": "markdown",
   "id": "07e1dfc9",
   "metadata": {},
   "source": [
    "# Ans 27"
   ]
  },
  {
   "cell_type": "code",
   "execution_count": 19,
   "id": "2288ab0c",
   "metadata": {},
   "outputs": [
    {
     "name": "stdout",
     "output_type": "stream",
     "text": [
      "['#Doltiwal', '#xyzabc', '#Demonetization']\n"
     ]
    }
   ],
   "source": [
    "import re\n",
    "sample_text = \"\"\"RT @kapil_kausik: #Doltiwal I mean #xyzabc is \"hurt\" by #Demonetization as the same has rendered USELESS <ed><U+00A0><U+00BD><ed><U+00B1><U+0089> \"acquired funds\" No wo\"\"\"\n",
    "pattern = r'#[A-Za-z0-9]+'\n",
    "find = re.findall(pattern,sample_text)\n",
    "print(find)"
   ]
  },
  {
   "cell_type": "markdown",
   "id": "1ebd078b",
   "metadata": {},
   "source": [
    "# Ans 28"
   ]
  },
  {
   "cell_type": "code",
   "execution_count": 20,
   "id": "d493fd04",
   "metadata": {},
   "outputs": [
    {
     "name": "stdout",
     "output_type": "stream",
     "text": [
      "@Jags123456 Bharat band on 28??<ed><ed>Those who  are protesting #demonetization  are all different party leaders\n"
     ]
    }
   ],
   "source": [
    "import re\n",
    "text = \"@Jags123456 Bharat band on 28??<ed><U+00A0><U+00BD><ed><U+00B8><U+0082>Those who  are protesting #demonetization  are all different party leaders\"\n",
    "pattern = r'[<U+A-Z0-9]+>'\n",
    "matches = re.sub(pattern,'',text)\n",
    "print(matches)"
   ]
  },
  {
   "cell_type": "markdown",
   "id": "3e0c15e0",
   "metadata": {},
   "source": [
    "# Ans 29"
   ]
  },
  {
   "cell_type": "code",
   "execution_count": 27,
   "id": "fd183f53",
   "metadata": {},
   "outputs": [
    {
     "name": "stdout",
     "output_type": "stream",
     "text": [
      "['12-09-1992', '15-12-1999']\n"
     ]
    }
   ],
   "source": [
    "import re\n",
    "file = 'Ron was born on 12-09-1992 and he was admitted to school 15-12-1999.'\n",
    "pattern = r'\\d{2}-\\d{2}-\\d{4}'\n",
    "find = re.findall(pattern,file)\n",
    "print(find)"
   ]
  },
  {
   "cell_type": "markdown",
   "id": "c88fe2f7",
   "metadata": {},
   "source": [
    "# Ans 30"
   ]
  },
  {
   "cell_type": "code",
   "execution_count": 28,
   "id": "ce0356fa",
   "metadata": {},
   "outputs": [
    {
     "name": "stdout",
     "output_type": "stream",
     "text": [
      "['following', 'example', 'creates', 'ArrayList', 'capacity', 'elements', 'elements', 'added', 'ArrayList', 'ArrayList', 'trimmed', 'accordingly']\n"
     ]
    }
   ],
   "source": [
    "import re\n",
    "Sample_Text = \"The following example creates an ArrayList with a capacity of 50 elements. 4 elements are then added to the ArrayList and the ArrayList is trimmed accordingly.\"\n",
    "pattern = re.compile(r'\\w{5,}')\n",
    "extract = re.findall(pattern,Sample_Text)\n",
    "print(extract)"
   ]
  },
  {
   "cell_type": "code",
   "execution_count": null,
   "id": "6a5acaff",
   "metadata": {},
   "outputs": [],
   "source": []
  }
 ],
 "metadata": {
  "kernelspec": {
   "display_name": "Python 3 (ipykernel)",
   "language": "python",
   "name": "python3"
  },
  "language_info": {
   "codemirror_mode": {
    "name": "ipython",
    "version": 3
   },
   "file_extension": ".py",
   "mimetype": "text/x-python",
   "name": "python",
   "nbconvert_exporter": "python",
   "pygments_lexer": "ipython3",
   "version": "3.11.5"
  }
 },
 "nbformat": 4,
 "nbformat_minor": 5
}
