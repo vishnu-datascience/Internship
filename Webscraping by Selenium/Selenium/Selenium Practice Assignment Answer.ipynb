{
 "cells": [
  {
   "cell_type": "markdown",
   "id": "2c380f35",
   "metadata": {},
   "source": [
    "# Ans 1      Scrap data from https://www.shine.com/page."
   ]
  },
  {
   "cell_type": "code",
   "execution_count": 71,
   "id": "62471f21",
   "metadata": {},
   "outputs": [],
   "source": [
    "import selenium\n",
    "import pandas as pd\n",
    "from selenium import webdriver\n",
    "import warnings\n",
    "warnings.filterwarnings('ignore')\n",
    "from selenium.webdriver.common.by import By\n",
    "import time"
   ]
  },
  {
   "cell_type": "code",
   "execution_count": 76,
   "id": "2ee0cd31",
   "metadata": {},
   "outputs": [],
   "source": [
    "driver = webdriver.Chrome()"
   ]
  },
  {
   "cell_type": "code",
   "execution_count": 77,
   "id": "3216abef",
   "metadata": {},
   "outputs": [],
   "source": [
    "# opening the shine page on automated chrome browser\n",
    "driver.get(\"https://www.shine.com/\")"
   ]
  },
  {
   "cell_type": "code",
   "execution_count": 83,
   "id": "afa63b1b",
   "metadata": {},
   "outputs": [],
   "source": [
    "# entering designation and Location as required in this question.\n",
    "designation = driver.find_element(By.CLASS_NAME,\"form-control  \")\n",
    "designation.send_keys('Data Analyst')"
   ]
  },
  {
   "cell_type": "code",
   "execution_count": 84,
   "id": "a700f11c",
   "metadata": {},
   "outputs": [],
   "source": [
    "# location is entered in the shine page.\n",
    "location = driver.find_element(By.XPATH,\"/html/body/div/div[4]/div/div[2]/div[2]/div/form/div/div[1]/ul/li[2]/div/input\")\n",
    "location.send_keys('Bangalore')"
   ]
  },
  {
   "cell_type": "code",
   "execution_count": 85,
   "id": "feb5b743",
   "metadata": {},
   "outputs": [],
   "source": [
    "# click on search button.\n",
    "search = driver.find_element(By.CLASS_NAME,\"searchForm_btnWrap_advance__VYBHN\")\n",
    "search.click()"
   ]
  },
  {
   "cell_type": "code",
   "execution_count": 86,
   "id": "6974b078",
   "metadata": {},
   "outputs": [],
   "source": [
    "# create empty lists\n",
    "job_title = []\n",
    "job_location=[]\n",
    "company_name=[]\n",
    "experience_required=[]"
   ]
  },
  {
   "cell_type": "code",
   "execution_count": 87,
   "id": "397f2f77",
   "metadata": {},
   "outputs": [],
   "source": [
    "# scrap job_title, job_location, company name, experience_required only 10 job  data from shine page.\n",
    "# Scraping job_title from the given page\n",
    "title_tags = driver.find_elements(By.XPATH,'//strong[@class=\"jobCard_pReplaceH2__xWmHg\"]')\n",
    "for i in title_tags[0:10]:\n",
    "    title = i.text\n",
    "    job_title.append(title)\n",
    "    \n",
    "# Scraping location from the given page.\n",
    "location_tags = driver.find_elements(By.XPATH,'//div[@class=\"jobCard_jobCard_lists_item__YxRkV jobCard_locationIcon__zrWt2\"]')\n",
    "for i in location_tags[0:10]:\n",
    "    location = i.text.replace('\\n','').strip()\n",
    "    job_location.append(location)\n",
    "    \n",
    "# Scraping Company_name from given page.\n",
    "company_tags = driver.find_elements(By.XPATH,'//div[@class=\"jobCard_jobCard_cName__mYnow\"]')\n",
    "for i in company_tags[0:10]:\n",
    "    company = i.text\n",
    "    company_name.append(company)\n",
    "    \n",
    "# Scraping experience required from the given page.\n",
    "experience_tags = driver.find_elements(By.XPATH,'//div[@class=\" jobCard_jobCard_lists_item__YxRkV jobCard_jobIcon__3FB1t\"]')\n",
    "for i in experience_tags[0:10]:\n",
    "    experience = i.text\n",
    "    experience_required.append(experience)"
   ]
  },
  {
   "cell_type": "code",
   "execution_count": 88,
   "id": "74502c70",
   "metadata": {},
   "outputs": [
    {
     "data": {
      "text/plain": [
       "['Data Analyst , Senior Data Analyst , Data Analyst - Tec ...',\n",
       " 'Data Analyst',\n",
       " 'Healthcare Data Analyst',\n",
       " 'Senior Data Analyst',\n",
       " 'Urgent Hiring For Data Analyst',\n",
       " 'Clinical Data Analyst Ii',\n",
       " 'Operations Executive ( Data Analyst )',\n",
       " 'Data Catalog with Data Goverance',\n",
       " 'Business Analyst',\n",
       " 'sql data analysis']"
      ]
     },
     "execution_count": 88,
     "metadata": {},
     "output_type": "execute_result"
    }
   ],
   "source": [
    "job_title"
   ]
  },
  {
   "cell_type": "code",
   "execution_count": 89,
   "id": "3b9c5901",
   "metadata": {},
   "outputs": [
    {
     "data": {
      "text/plain": [
       "['Bangalore+8',\n",
       " 'Bangalore+4',\n",
       " 'Bangalore+8',\n",
       " 'Bangalore+8',\n",
       " 'Bangalore+2',\n",
       " 'Bangalore+8',\n",
       " 'Bangalore+2',\n",
       " 'Bangalore+8',\n",
       " 'Bangalore',\n",
       " 'Bangalore+1']"
      ]
     },
     "execution_count": 89,
     "metadata": {},
     "output_type": "execute_result"
    }
   ],
   "source": [
    "job_location"
   ]
  },
  {
   "cell_type": "code",
   "execution_count": 90,
   "id": "c7c4dd91",
   "metadata": {},
   "outputs": [
    {
     "data": {
      "text/plain": [
       "['appsoft solutions',\n",
       " 'aryan technology',\n",
       " 'spento papers (india) llp',\n",
       " 'gallagher and mohan private limited',\n",
       " 'diraa hr services hiring for diraa ...',\n",
       " 'techno endura',\n",
       " 'innovsource services private limite...',\n",
       " 'ltimindtree limited',\n",
       " 'spurtree technologies private limit...',\n",
       " 'ikaya solutions private limited']"
      ]
     },
     "execution_count": 90,
     "metadata": {},
     "output_type": "execute_result"
    }
   ],
   "source": [
    "company_name"
   ]
  },
  {
   "cell_type": "code",
   "execution_count": 91,
   "id": "013e2006",
   "metadata": {},
   "outputs": [
    {
     "data": {
      "text/plain": [
       "['0 to 4 Yrs',\n",
       " '0 to 4 Yrs',\n",
       " '8 to 13 Yrs',\n",
       " '2 to 7 Yrs',\n",
       " '0 to 4 Yrs',\n",
       " '0 to 2 Yrs',\n",
       " '1 to 4 Yrs',\n",
       " '6 to 11 Yrs',\n",
       " '5 to 10 Yrs',\n",
       " '3 to 6 Yrs']"
      ]
     },
     "execution_count": 91,
     "metadata": {},
     "output_type": "execute_result"
    }
   ],
   "source": [
    "experience_required"
   ]
  },
  {
   "cell_type": "code",
   "execution_count": 92,
   "id": "7dfd96bb",
   "metadata": {},
   "outputs": [],
   "source": [
    "df = pd.DataFrame({'Company Title':company_name,'Job Location':job_location,'Company Name':company_name,'Experience Required':experience_required})"
   ]
  },
  {
   "cell_type": "code",
   "execution_count": 93,
   "id": "cd9c797c",
   "metadata": {},
   "outputs": [
    {
     "data": {
      "text/html": [
       "<div>\n",
       "<style scoped>\n",
       "    .dataframe tbody tr th:only-of-type {\n",
       "        vertical-align: middle;\n",
       "    }\n",
       "\n",
       "    .dataframe tbody tr th {\n",
       "        vertical-align: top;\n",
       "    }\n",
       "\n",
       "    .dataframe thead th {\n",
       "        text-align: right;\n",
       "    }\n",
       "</style>\n",
       "<table border=\"1\" class=\"dataframe\">\n",
       "  <thead>\n",
       "    <tr style=\"text-align: right;\">\n",
       "      <th></th>\n",
       "      <th>Company Title</th>\n",
       "      <th>Job Location</th>\n",
       "      <th>Company Name</th>\n",
       "      <th>Experience Required</th>\n",
       "    </tr>\n",
       "  </thead>\n",
       "  <tbody>\n",
       "    <tr>\n",
       "      <th>0</th>\n",
       "      <td>appsoft solutions</td>\n",
       "      <td>Bangalore+8</td>\n",
       "      <td>appsoft solutions</td>\n",
       "      <td>0 to 4 Yrs</td>\n",
       "    </tr>\n",
       "    <tr>\n",
       "      <th>1</th>\n",
       "      <td>aryan technology</td>\n",
       "      <td>Bangalore+4</td>\n",
       "      <td>aryan technology</td>\n",
       "      <td>0 to 4 Yrs</td>\n",
       "    </tr>\n",
       "    <tr>\n",
       "      <th>2</th>\n",
       "      <td>spento papers (india) llp</td>\n",
       "      <td>Bangalore+8</td>\n",
       "      <td>spento papers (india) llp</td>\n",
       "      <td>8 to 13 Yrs</td>\n",
       "    </tr>\n",
       "    <tr>\n",
       "      <th>3</th>\n",
       "      <td>gallagher and mohan private limited</td>\n",
       "      <td>Bangalore+8</td>\n",
       "      <td>gallagher and mohan private limited</td>\n",
       "      <td>2 to 7 Yrs</td>\n",
       "    </tr>\n",
       "    <tr>\n",
       "      <th>4</th>\n",
       "      <td>diraa hr services hiring for diraa ...</td>\n",
       "      <td>Bangalore+2</td>\n",
       "      <td>diraa hr services hiring for diraa ...</td>\n",
       "      <td>0 to 4 Yrs</td>\n",
       "    </tr>\n",
       "    <tr>\n",
       "      <th>5</th>\n",
       "      <td>techno endura</td>\n",
       "      <td>Bangalore+8</td>\n",
       "      <td>techno endura</td>\n",
       "      <td>0 to 2 Yrs</td>\n",
       "    </tr>\n",
       "    <tr>\n",
       "      <th>6</th>\n",
       "      <td>innovsource services private limite...</td>\n",
       "      <td>Bangalore+2</td>\n",
       "      <td>innovsource services private limite...</td>\n",
       "      <td>1 to 4 Yrs</td>\n",
       "    </tr>\n",
       "    <tr>\n",
       "      <th>7</th>\n",
       "      <td>ltimindtree limited</td>\n",
       "      <td>Bangalore+8</td>\n",
       "      <td>ltimindtree limited</td>\n",
       "      <td>6 to 11 Yrs</td>\n",
       "    </tr>\n",
       "    <tr>\n",
       "      <th>8</th>\n",
       "      <td>spurtree technologies private limit...</td>\n",
       "      <td>Bangalore</td>\n",
       "      <td>spurtree technologies private limit...</td>\n",
       "      <td>5 to 10 Yrs</td>\n",
       "    </tr>\n",
       "    <tr>\n",
       "      <th>9</th>\n",
       "      <td>ikaya solutions private limited</td>\n",
       "      <td>Bangalore+1</td>\n",
       "      <td>ikaya solutions private limited</td>\n",
       "      <td>3 to 6 Yrs</td>\n",
       "    </tr>\n",
       "  </tbody>\n",
       "</table>\n",
       "</div>"
      ],
      "text/plain": [
       "                            Company Title Job Location  \\\n",
       "0                       appsoft solutions  Bangalore+8   \n",
       "1                        aryan technology  Bangalore+4   \n",
       "2               spento papers (india) llp  Bangalore+8   \n",
       "3     gallagher and mohan private limited  Bangalore+8   \n",
       "4  diraa hr services hiring for diraa ...  Bangalore+2   \n",
       "5                           techno endura  Bangalore+8   \n",
       "6  innovsource services private limite...  Bangalore+2   \n",
       "7                     ltimindtree limited  Bangalore+8   \n",
       "8  spurtree technologies private limit...    Bangalore   \n",
       "9         ikaya solutions private limited  Bangalore+1   \n",
       "\n",
       "                             Company Name Experience Required  \n",
       "0                       appsoft solutions          0 to 4 Yrs  \n",
       "1                        aryan technology          0 to 4 Yrs  \n",
       "2               spento papers (india) llp         8 to 13 Yrs  \n",
       "3     gallagher and mohan private limited          2 to 7 Yrs  \n",
       "4  diraa hr services hiring for diraa ...          0 to 4 Yrs  \n",
       "5                           techno endura          0 to 2 Yrs  \n",
       "6  innovsource services private limite...          1 to 4 Yrs  \n",
       "7                     ltimindtree limited         6 to 11 Yrs  \n",
       "8  spurtree technologies private limit...         5 to 10 Yrs  \n",
       "9         ikaya solutions private limited          3 to 6 Yrs  "
      ]
     },
     "execution_count": 93,
     "metadata": {},
     "output_type": "execute_result"
    }
   ],
   "source": [
    "df"
   ]
  },
  {
   "cell_type": "code",
   "execution_count": null,
   "id": "94fc4536",
   "metadata": {},
   "outputs": [],
   "source": []
  },
  {
   "cell_type": "markdown",
   "id": "910a4c7a",
   "metadata": {},
   "source": [
    "# Ans 2 scrap data from https://www.naukri.com/ page"
   ]
  },
  {
   "cell_type": "code",
   "execution_count": 40,
   "id": "05fca092",
   "metadata": {},
   "outputs": [],
   "source": [
    "import selenium\n",
    "import pandas as pd\n",
    "from selenium import webdriver\n",
    "import warnings\n",
    "warnings.filterwarnings('ignore')\n",
    "from selenium.webdriver.common.by import By\n",
    "import time"
   ]
  },
  {
   "cell_type": "code",
   "execution_count": 41,
   "id": "3cc06efa",
   "metadata": {},
   "outputs": [],
   "source": [
    "driver = webdriver.Chrome()"
   ]
  },
  {
   "cell_type": "code",
   "execution_count": 42,
   "id": "785d2620",
   "metadata": {},
   "outputs": [],
   "source": [
    "# opening the naukri page on automated chrome browser\n",
    "driver.get('https://www.naukri.com/')"
   ]
  },
  {
   "cell_type": "code",
   "execution_count": 43,
   "id": "2c4817f1",
   "metadata": {},
   "outputs": [],
   "source": [
    "# entering designation as required in this question.\n",
    "designation = driver.find_element(By.CLASS_NAME,\"suggestor-input \")\n",
    "designation.send_keys('Data Analyst')"
   ]
  },
  {
   "cell_type": "code",
   "execution_count": 44,
   "id": "91c382f1",
   "metadata": {},
   "outputs": [],
   "source": [
    "# entering location as required in this question.\n",
    "location = driver.find_element(By.XPATH,'/html/body/div[1]/div[7]/div/div/div[5]/div/div/div/div[1]/div/input')\n",
    "location.send_keys('Bangalore')"
   ]
  },
  {
   "cell_type": "code",
   "execution_count": 45,
   "id": "21f7b9c8",
   "metadata": {},
   "outputs": [],
   "source": [
    "search = driver.find_element(By.CLASS_NAME,\"qsbSubmit\")\n",
    "search.click()"
   ]
  },
  {
   "cell_type": "code",
   "execution_count": 46,
   "id": "a6fcff41",
   "metadata": {},
   "outputs": [],
   "source": [
    "job_title=[]\n",
    "job_location=[]\n",
    "company_name=[]\n",
    "experience_required=[]"
   ]
  },
  {
   "cell_type": "code",
   "execution_count": 48,
   "id": "b09545e7",
   "metadata": {},
   "outputs": [],
   "source": [
    "# scraping job_title from the given page\n",
    "job_tags = driver.find_elements(By.XPATH,'//a[@class=\"title \"]')\n",
    "for i in job_tags[0:10]:\n",
    "    title = i.text\n",
    "    job_title.append(title)\n",
    "    \n",
    "# Sraping job_location from the given page.\n",
    "location_tags = driver.find_elements(By.XPATH,'//span[@class=\"locWdth\"]')\n",
    "for i in location_tags[0:10]:\n",
    "    location = i.text\n",
    "    job_location.append(location)\n",
    "    \n",
    "# scraping company_name form the given page.\n",
    "company_tags = driver.find_elements(By.XPATH,'//div[@class=\" row2\"]')\n",
    "for i in company_tags[0:10]:\n",
    "    company = i.text.replace('\\n','').strip()\n",
    "    company_name.append(company)\n",
    "    \n",
    "# Scraping experience_required from given page.\n",
    "experience_tags= driver.find_elements(By.XPATH,'//span[@class=\"expwdth\"]')\n",
    "for i in experience_tags[0:10]:\n",
    "    experience = i.text\n",
    "    experience_required.append(experience)"
   ]
  },
  {
   "cell_type": "code",
   "execution_count": 50,
   "id": "8afe483c",
   "metadata": {},
   "outputs": [
    {
     "data": {
      "text/plain": [
       "['Data Analyst',\n",
       " 'Data Analyst (Excel)',\n",
       " 'Data Analyst',\n",
       " 'Data Analyst',\n",
       " 'Data Analyst',\n",
       " 'Data Analyst _Bengaluru_Fresher/Experienced',\n",
       " 'Data Analyst',\n",
       " 'Data Analyst (Contractual role) - Chubb - Bangalore',\n",
       " 'Data Analyst',\n",
       " 'FHIR Data Analyst']"
      ]
     },
     "execution_count": 50,
     "metadata": {},
     "output_type": "execute_result"
    }
   ],
   "source": [
    "job_title"
   ]
  },
  {
   "cell_type": "code",
   "execution_count": 51,
   "id": "f45c0995",
   "metadata": {},
   "outputs": [
    {
     "data": {
      "text/plain": [
       "['Bengaluru',\n",
       " 'Remote',\n",
       " 'Hybrid - Bengaluru',\n",
       " 'Bengaluru(HAL Airport Area)',\n",
       " 'Gurugram, Bengaluru',\n",
       " 'Bengaluru',\n",
       " 'Bengaluru(HSR Layout)',\n",
       " 'Hybrid - Bengaluru',\n",
       " 'Bengaluru',\n",
       " 'Bengaluru']"
      ]
     },
     "execution_count": 51,
     "metadata": {},
     "output_type": "execute_result"
    }
   ],
   "source": [
    "job_location"
   ]
  },
  {
   "cell_type": "code",
   "execution_count": 49,
   "id": "74f066a4",
   "metadata": {},
   "outputs": [
    {
     "data": {
      "text/plain": [
       "['Info Test Ehire Campaign',\n",
       " 'Rocket Careers',\n",
       " 'randstad offshorePosted by Randstad',\n",
       " 'Manipal Hospitals4.21183 Reviews',\n",
       " 'Delhivery3.95472 Reviews',\n",
       " 'Creative Hr Solutions',\n",
       " 'Simply Vyapar Apps3.7294 Reviews',\n",
       " 'Chubb3.8137 Reviews',\n",
       " 'Eastvantage2.611 Reviews',\n",
       " 'Infosys3.834525 Reviews']"
      ]
     },
     "execution_count": 49,
     "metadata": {},
     "output_type": "execute_result"
    }
   ],
   "source": [
    "company_name"
   ]
  },
  {
   "cell_type": "code",
   "execution_count": 52,
   "id": "5961d08d",
   "metadata": {},
   "outputs": [
    {
     "data": {
      "text/plain": [
       "['5-9 Yrs',\n",
       " '0-5 Yrs',\n",
       " '6-10 Yrs',\n",
       " '1-2 Yrs',\n",
       " '1-5 Yrs',\n",
       " '0-2 Yrs',\n",
       " '1-4 Yrs',\n",
       " '3-6 Yrs',\n",
       " '3-8 Yrs',\n",
       " '5-10 Yrs']"
      ]
     },
     "execution_count": 52,
     "metadata": {},
     "output_type": "execute_result"
    }
   ],
   "source": [
    "experience_required"
   ]
  },
  {
   "cell_type": "code",
   "execution_count": 53,
   "id": "021c444e",
   "metadata": {},
   "outputs": [],
   "source": [
    "df = pd.DataFrame({'Job_Title':job_title,'Job_Location':job_location,'Company Name':company_name,'Experience Required':experience_required})"
   ]
  },
  {
   "cell_type": "code",
   "execution_count": 54,
   "id": "99a22cce",
   "metadata": {},
   "outputs": [
    {
     "data": {
      "text/html": [
       "<div>\n",
       "<style scoped>\n",
       "    .dataframe tbody tr th:only-of-type {\n",
       "        vertical-align: middle;\n",
       "    }\n",
       "\n",
       "    .dataframe tbody tr th {\n",
       "        vertical-align: top;\n",
       "    }\n",
       "\n",
       "    .dataframe thead th {\n",
       "        text-align: right;\n",
       "    }\n",
       "</style>\n",
       "<table border=\"1\" class=\"dataframe\">\n",
       "  <thead>\n",
       "    <tr style=\"text-align: right;\">\n",
       "      <th></th>\n",
       "      <th>Job_Title</th>\n",
       "      <th>Job_Location</th>\n",
       "      <th>Company Name</th>\n",
       "      <th>Experience Required</th>\n",
       "    </tr>\n",
       "  </thead>\n",
       "  <tbody>\n",
       "    <tr>\n",
       "      <th>0</th>\n",
       "      <td>Data Analyst</td>\n",
       "      <td>Bengaluru</td>\n",
       "      <td>Info Test Ehire Campaign</td>\n",
       "      <td>5-9 Yrs</td>\n",
       "    </tr>\n",
       "    <tr>\n",
       "      <th>1</th>\n",
       "      <td>Data Analyst (Excel)</td>\n",
       "      <td>Remote</td>\n",
       "      <td>Rocket Careers</td>\n",
       "      <td>0-5 Yrs</td>\n",
       "    </tr>\n",
       "    <tr>\n",
       "      <th>2</th>\n",
       "      <td>Data Analyst</td>\n",
       "      <td>Hybrid - Bengaluru</td>\n",
       "      <td>randstad offshorePosted by Randstad</td>\n",
       "      <td>6-10 Yrs</td>\n",
       "    </tr>\n",
       "    <tr>\n",
       "      <th>3</th>\n",
       "      <td>Data Analyst</td>\n",
       "      <td>Bengaluru(HAL Airport Area)</td>\n",
       "      <td>Manipal Hospitals4.21183 Reviews</td>\n",
       "      <td>1-2 Yrs</td>\n",
       "    </tr>\n",
       "    <tr>\n",
       "      <th>4</th>\n",
       "      <td>Data Analyst</td>\n",
       "      <td>Gurugram, Bengaluru</td>\n",
       "      <td>Delhivery3.95472 Reviews</td>\n",
       "      <td>1-5 Yrs</td>\n",
       "    </tr>\n",
       "    <tr>\n",
       "      <th>5</th>\n",
       "      <td>Data Analyst _Bengaluru_Fresher/Experienced</td>\n",
       "      <td>Bengaluru</td>\n",
       "      <td>Creative Hr Solutions</td>\n",
       "      <td>0-2 Yrs</td>\n",
       "    </tr>\n",
       "    <tr>\n",
       "      <th>6</th>\n",
       "      <td>Data Analyst</td>\n",
       "      <td>Bengaluru(HSR Layout)</td>\n",
       "      <td>Simply Vyapar Apps3.7294 Reviews</td>\n",
       "      <td>1-4 Yrs</td>\n",
       "    </tr>\n",
       "    <tr>\n",
       "      <th>7</th>\n",
       "      <td>Data Analyst (Contractual role) - Chubb - Bang...</td>\n",
       "      <td>Hybrid - Bengaluru</td>\n",
       "      <td>Chubb3.8137 Reviews</td>\n",
       "      <td>3-6 Yrs</td>\n",
       "    </tr>\n",
       "    <tr>\n",
       "      <th>8</th>\n",
       "      <td>Data Analyst</td>\n",
       "      <td>Bengaluru</td>\n",
       "      <td>Eastvantage2.611 Reviews</td>\n",
       "      <td>3-8 Yrs</td>\n",
       "    </tr>\n",
       "    <tr>\n",
       "      <th>9</th>\n",
       "      <td>FHIR Data Analyst</td>\n",
       "      <td>Bengaluru</td>\n",
       "      <td>Infosys3.834525 Reviews</td>\n",
       "      <td>5-10 Yrs</td>\n",
       "    </tr>\n",
       "  </tbody>\n",
       "</table>\n",
       "</div>"
      ],
      "text/plain": [
       "                                           Job_Title  \\\n",
       "0                                       Data Analyst   \n",
       "1                               Data Analyst (Excel)   \n",
       "2                                       Data Analyst   \n",
       "3                                       Data Analyst   \n",
       "4                                       Data Analyst   \n",
       "5        Data Analyst _Bengaluru_Fresher/Experienced   \n",
       "6                                       Data Analyst   \n",
       "7  Data Analyst (Contractual role) - Chubb - Bang...   \n",
       "8                                       Data Analyst   \n",
       "9                                  FHIR Data Analyst   \n",
       "\n",
       "                  Job_Location                         Company Name  \\\n",
       "0                    Bengaluru             Info Test Ehire Campaign   \n",
       "1                       Remote                       Rocket Careers   \n",
       "2           Hybrid - Bengaluru  randstad offshorePosted by Randstad   \n",
       "3  Bengaluru(HAL Airport Area)     Manipal Hospitals4.21183 Reviews   \n",
       "4          Gurugram, Bengaluru             Delhivery3.95472 Reviews   \n",
       "5                    Bengaluru                Creative Hr Solutions   \n",
       "6        Bengaluru(HSR Layout)     Simply Vyapar Apps3.7294 Reviews   \n",
       "7           Hybrid - Bengaluru                  Chubb3.8137 Reviews   \n",
       "8                    Bengaluru             Eastvantage2.611 Reviews   \n",
       "9                    Bengaluru              Infosys3.834525 Reviews   \n",
       "\n",
       "  Experience Required  \n",
       "0             5-9 Yrs  \n",
       "1             0-5 Yrs  \n",
       "2            6-10 Yrs  \n",
       "3             1-2 Yrs  \n",
       "4             1-5 Yrs  \n",
       "5             0-2 Yrs  \n",
       "6             1-4 Yrs  \n",
       "7             3-6 Yrs  \n",
       "8             3-8 Yrs  \n",
       "9            5-10 Yrs  "
      ]
     },
     "execution_count": 54,
     "metadata": {},
     "output_type": "execute_result"
    }
   ],
   "source": [
    "df"
   ]
  },
  {
   "cell_type": "code",
   "execution_count": null,
   "id": "bf9f5a0b",
   "metadata": {},
   "outputs": [],
   "source": []
  },
  {
   "cell_type": "markdown",
   "id": "753c1b83",
   "metadata": {},
   "source": [
    "# Ans 3  Scrap 100 sunglasses data from https://www.flipkart.com/"
   ]
  },
  {
   "cell_type": "code",
   "execution_count": 56,
   "id": "58d93ec8",
   "metadata": {},
   "outputs": [],
   "source": [
    "import selenium\n",
    "import pandas as pd\n",
    "from selenium import webdriver\n",
    "import warnings\n",
    "warnings.filterwarnings('ignore')\n",
    "from selenium.webdriver.common.by import By\n",
    "import time"
   ]
  },
  {
   "cell_type": "code",
   "execution_count": 57,
   "id": "06c81257",
   "metadata": {},
   "outputs": [],
   "source": [
    "driver = webdriver.Chrome()"
   ]
  },
  {
   "cell_type": "code",
   "execution_count": 58,
   "id": "d9677d4f",
   "metadata": {},
   "outputs": [],
   "source": [
    "# Opening the flipkart page on automated chrome browser.\n",
    "driver.get('https://WWW.flipkart.com/')"
   ]
  },
  {
   "cell_type": "code",
   "execution_count": 59,
   "id": "4636e0ee",
   "metadata": {},
   "outputs": [],
   "source": [
    "find_product = driver.find_element(By.CLASS_NAME,\"Pke_EE\")\n",
    "find_product.send_keys('sunglasses')"
   ]
  },
  {
   "cell_type": "code",
   "execution_count": 60,
   "id": "92ba3bc6",
   "metadata": {},
   "outputs": [],
   "source": [
    "search = driver.find_element(By.CLASS_NAME,\"_2iLD__\")\n",
    "search.click()"
   ]
  },
  {
   "cell_type": "code",
   "execution_count": 61,
   "id": "b5adba08",
   "metadata": {},
   "outputs": [],
   "source": [
    "Brand_Name = []\n",
    "Product_discription=[]\n",
    "Price = []"
   ]
  },
  {
   "cell_type": "code",
   "execution_count": 62,
   "id": "e78384e0",
   "metadata": {},
   "outputs": [],
   "source": [
    "# Scrap Brand, product_discription, price data from flipkart page.\n",
    "start = 0\n",
    "end = 3\n",
    "for page in range(start,end):\n",
    "# Scrap Brand from flipkart page.\n",
    "    brand_tag = driver.find_elements(By.XPATH,'//div[@class=\"syl9yP\"]')\n",
    "    for i in brand_tag[0:100]:\n",
    "        Brand_Name.append(i.text)\n",
    "    \n",
    "# Scrap product_discription from flipkart page.\n",
    "    discription_tag = driver.find_elements(By.XPATH,'//div[@class=\"hCKiGj\"]')\n",
    "    for i in discription_tag[0:100]:\n",
    "        Product_discription.append(i.text.replace('\\n','').strip())\n",
    "        \n",
    "# Scrap price from flipkart page.\n",
    "    price_tag = driver.find_elements(By.XPATH,'//div[@class=\"Nx9bqj\"]')\n",
    "    for i in price_tag[0:100]:\n",
    "        Price.append(i.text)\n",
    "        \n",
    "    next_button = driver.find_element(By.XPATH,'/html/body/div/div/div[3]/div[1]/div[2]/div[12]/div/div/nav/a[11]')\n",
    "    next_button.click()\n",
    "    time.sleep(3)"
   ]
  },
  {
   "cell_type": "code",
   "execution_count": 66,
   "id": "13297808",
   "metadata": {},
   "outputs": [
    {
     "data": {
      "text/plain": [
       "['VINCENT CHASE',\n",
       " 'VINCENT CHASE',\n",
       " 'Fastrack',\n",
       " 'Fastrack',\n",
       " 'EBRACOLLECTION',\n",
       " 'VINCENT CHASE',\n",
       " 'Fastrack',\n",
       " 'Ted Smith',\n",
       " 'VINCENT CHASE',\n",
       " 'VINCENT CHASE',\n",
       " 'ROYAL SON',\n",
       " 'VINCENT CHASE',\n",
       " 'Dervin',\n",
       " 'METRONAUT',\n",
       " 'Fastrack',\n",
       " 'Fastrack',\n",
       " 'VINCENT CHASE',\n",
       " 'VINCENT CHASE',\n",
       " 'VINCENT CHASE',\n",
       " 'Fastrack',\n",
       " 'VINCENT CHASE',\n",
       " 'VINCENT CHASE',\n",
       " 'Fastrack',\n",
       " 'Fastrack',\n",
       " 'Fastrack',\n",
       " 'VINCENT CHASE',\n",
       " 'VINCENT CHASE',\n",
       " 'VINCENT CHASE',\n",
       " 'VINCENT CHASE',\n",
       " 'VINCENT CHASE',\n",
       " 'ROYAL SON',\n",
       " 'ROYAL SON',\n",
       " 'VINCENT CHASE',\n",
       " 'Fastrack',\n",
       " 'METRONAUT',\n",
       " 'Fastrack',\n",
       " 'VINCENT CHASE',\n",
       " 'VINCENT CHASE',\n",
       " 'PROVOGUE',\n",
       " 'Fastrack',\n",
       " 'VINCENT CHASE',\n",
       " 'VINCENT CHASE',\n",
       " 'VINCENT CHASE',\n",
       " 'Fastrack',\n",
       " 'Dressberry',\n",
       " 'Mention',\n",
       " 'VINCENT CHASE',\n",
       " 'Woggles',\n",
       " 'Ted Smith',\n",
       " 'ROADWAY',\n",
       " 'VINCENT CHASE',\n",
       " 'ROYAL SON',\n",
       " 'Fastrack',\n",
       " 'VINCENT CHASE',\n",
       " 'METRONAUT',\n",
       " 'ATOUCH',\n",
       " 'Dressberry',\n",
       " 'VINCENT CHASE',\n",
       " 'Styloze',\n",
       " 'VINCENT CHASE',\n",
       " 'VINCENT CHASE',\n",
       " 'AISLIN',\n",
       " 'VINCENT CHASE',\n",
       " 'VINCENT CHASE',\n",
       " 'Fastrack',\n",
       " 'ROADWAY',\n",
       " 'ROYAL SON',\n",
       " 'VINCENT CHASE',\n",
       " 'VINCENT CHASE',\n",
       " 'Fastrack',\n",
       " 'VOYAGE',\n",
       " 'ROYAL SON',\n",
       " 'New Specs',\n",
       " 'hayden haiza',\n",
       " 'IRUS',\n",
       " 'VINCENT CHASE',\n",
       " 'VINCENT CHASE',\n",
       " 'KAEN EYEWEAR',\n",
       " 'Fastrack',\n",
       " 'Zeemork',\n",
       " 'Woggles',\n",
       " 'VINCENT CHASE',\n",
       " 'Sunveil',\n",
       " 'AISLIN',\n",
       " 'The Magnifique',\n",
       " 'AGFashion',\n",
       " 'Eyewearlabs',\n",
       " 'AISLIN',\n",
       " 'ALNATURA',\n",
       " 'elegante',\n",
       " 'VOYAGE',\n",
       " 'ROYAL SON',\n",
       " 'VINCENT CHASE',\n",
       " 'Ray-Ban',\n",
       " 'Online Mantra',\n",
       " 'PIRASO',\n",
       " 'AISLIN',\n",
       " 'SAM AND MARSHALL',\n",
       " 'Irayz',\n",
       " 'Zeemork']"
      ]
     },
     "execution_count": 66,
     "metadata": {},
     "output_type": "execute_result"
    }
   ],
   "source": [
    "Brand_Name[0:100]"
   ]
  },
  {
   "cell_type": "code",
   "execution_count": 69,
   "id": "55f7e623",
   "metadata": {},
   "outputs": [
    {
     "data": {
      "text/plain": [
       "['VINCENT CHASEby Lenskart Polarized, UV Protection Wayfarer Sunglasse...₹979₹1,99951% offFree delivery',\n",
       " 'VINCENT CHASEby Lenskart Polarized, UV Protection Aviator Sunglasses...₹696₹1,99965% offFree deliveryHot Deal',\n",
       " 'FastrackUV Protection Wayfarer Sunglasses (53)₹534₹99946% offFree deliveryLowest Price in 30 days',\n",
       " 'FastrackUV Protection Wayfarer Sunglasses (Free Size)₹470₹99952% offLowest Price in 30 days',\n",
       " 'EBRACOLLECTIONUV Protection, Gradient, Polarized Oval, Rectangular Su...₹302₹1,99984% offFree deliveryOnly few left',\n",
       " 'VINCENT CHASEby Lenskart Polarized, UV Protection Retro Square Sungl...₹659₹1,99967% offFree deliverySale Price Live',\n",
       " 'FastrackGradient, UV Protection Wayfarer Sunglasses (Free Size)₹539₹99946% offFree deliveryLowest Price in 30 days',\n",
       " 'Ted SmithUV Protection Rectangular Sunglasses (53)₹850₹3,09072% offFree deliveryOnly few left',\n",
       " 'VINCENT CHASEby Lenskart UV Protection Wayfarer Sunglasses (59)₹475₹1,99976% offHot Deal',\n",
       " 'VINCENT CHASEby Lenskart Polarized, UV Protection Round Sunglasses (...₹799₹1,99960% offFree deliverySale Price Live',\n",
       " 'ROYAL SONMirrored Aviator Sunglasses (58)₹379₹1,49974% offFree deliveryDaily Saver',\n",
       " 'VINCENT CHASEby Lenskart Polarized, UV Protection Wayfarer Sunglasse...₹710₹1,99964% offFree deliveryHot Deal',\n",
       " 'DervinUV Protection Wayfarer Sunglasses (Free Size)₹236₹1,49984% offFree deliveryLowest Price in 30 days',\n",
       " 'METRONAUTUV Protection, Riding Glasses Sunglass₹399₹79950% offFree deliveryOnly few left',\n",
       " 'FastrackUV Protection Aviator Sunglasses (58)₹750₹1,39946% offFree deliveryHot Deal',\n",
       " 'FastrackUV Protection Wayfarer Sunglasses (Free Size)₹593₹1,09946% offFree deliveryLowest Price in 30 days',\n",
       " 'VINCENT CHASEby Lenskart UV Protection Wayfarer Sunglasses (63)₹799₹1,99960% offFree deliverySale Price Live',\n",
       " 'VINCENT CHASEby Lenskart Polarized, UV Protection Round Sunglasses (...₹638₹1,99968% offFree deliveryLowest price in the year',\n",
       " 'VINCENT CHASEUV Protection Aviator Sunglasses (62)₹1,499₹1,99925% offFree deliveryOnly few left',\n",
       " 'FastrackGradient, UV Protection Retro Square Sunglasses (56)₹484₹89946% offLowest Price in 30 days',\n",
       " 'VINCENT CHASEby Lenskart UV Protection Wayfarer Sunglasses (59)₹649₹1,99967% offFree deliverySale Price Live',\n",
       " 'VINCENT CHASEby Lenskart Polarized, UV Protection Round Sunglasses (...₹711₹1,99964% offFree deliveryHot Deal',\n",
       " 'FastrackUV Protection Wayfarer Sunglasses (52)₹363₹89959% offSale Price Live',\n",
       " 'FastrackUV Protection Aviator Sunglasses (58)₹713₹1,39949% offFree deliverySale Price Live',\n",
       " 'FastrackGradient, UV Protection Wayfarer Sunglasses (Free Size)₹538₹99946% offFree deliveryLowest Price in 30 days',\n",
       " 'VINCENT CHASEby Lenskart UV Protection Clubmaster Sunglasses (55)₹489₹1,99975% offHot Deal',\n",
       " 'VINCENT CHASEby Lenskart Polarized, UV Protection Sports Sunglasses ...₹604₹1,99969% offFree deliveryLowest price in the year',\n",
       " 'VINCENT CHASEby Lenskart Polarized, UV Protection Aviator Sunglasses...₹579₹1,99971% offFree deliveryHot Deal',\n",
       " 'VINCENT CHASEUV Protection Aviator Sunglasses (58)₹1,499₹1,99925% offFree deliveryOnly few left',\n",
       " 'VINCENT CHASEby Lenskart Polarized, UV Protection Round Sunglasses (...₹799₹1,99960% offFree deliverySale Price Live',\n",
       " 'ROYAL SONUV Protection, Gradient Butterfly Sunglasses (62)₹664₹1,99966% offFree deliveryDaily Saver',\n",
       " 'ROYAL SONPolarized, UV Protection Wayfarer, Retro Square Sunglas...₹664₹1,99966% offFree deliveryDaily Saver',\n",
       " 'VINCENT CHASEby Lenskart Polarized, UV Protection Retro Square Sungl...₹776₹1,99961% offFree deliveryHot Deal',\n",
       " 'FastrackUV Protection Wayfarer Sunglasses (Free Size)₹594₹1,09945% offFree deliveryLowest Price in 30 days',\n",
       " 'METRONAUTNight Vision, Riding Glasses Sunglass₹399₹79950% offFree deliveryOnly few left',\n",
       " 'FastrackUV Protection Wayfarer Sunglasses (56)₹481₹89946% offSale Price Live',\n",
       " 'VINCENT CHASEby Lenskart Polarized, UV Protection Sports Sunglasses ...₹714₹1,99964% offFree deliverySale Price Live',\n",
       " 'VINCENT CHASEby Lenskart Polarized, UV Protection Sports Sunglasses ...₹843₹1,99957% offFree deliveryHot Deal',\n",
       " 'PROVOGUEUV Protection Round Sunglasses (55)₹599₹2,55576% offFree deliveryHot Deal',\n",
       " 'FastrackUV Protection Wayfarer Sunglasses (Free Size)₹453₹89949% offSale Price Live',\n",
       " 'VINCENT CHASEby Lenskart UV Protection Clubmaster Sunglasses (53)₹469₹1,99976% offFree deliveryLowest price in the year',\n",
       " 'VINCENT CHASEby Lenskart Polarized, UV Protection Rectangular Sungla...₹713₹1,99964% offFree deliveryLowest price in the year',\n",
       " 'VINCENT CHASEUV Protection Rectangular Sunglasses (60)₹1,499₹1,99925% offFree deliveryOnly few left',\n",
       " 'FastrackUV Protection Wayfarer Sunglasses (56)₹501₹99949% offFree deliveryHot Deal',\n",
       " 'DressberryUV Protection Shield, Butterfly Sunglasses (Free Size)₹474₹1,99976% offFree deliveryDaily Saver',\n",
       " 'MentionOthers, UV Protection, Riding Glasses, Polarized Retro ...₹378₹1,59976% offFree deliveryOnly few left',\n",
       " 'VINCENT CHASEby Lenskart Polarized, UV Protection Wayfarer Sunglasse...₹579₹1,99971% offFree deliveryHot Deal',\n",
       " 'WogglesUV Protection, Polarized Wayfarer Sunglasses (52)₹549₹1,67067% offLowest Price in 30 daysSize Medium',\n",
       " 'Ted SmithUV Protection Rectangular Sunglasses (53)₹850₹3,09072% offFree deliveryOnly few left',\n",
       " 'ROADWAYUV Protection Retro Square, Wayfarer, Sports Sunglasses...₹165₹99983% offFree deliveryHot Deal',\n",
       " 'VINCENT CHASEby Lenskart Polarized, UV Protection Cat-eye Sunglasses...₹655₹1,99967% offFree deliveryHot Deal',\n",
       " 'ROYAL SONUV Protection, Gradient Butterfly Sunglasses (52)₹664₹1,99966% offFree deliveryDaily Saver',\n",
       " 'FastrackUV Protection Aviator Sunglasses (58)₹755₹1,39946% offFree deliveryHot Deal',\n",
       " 'VINCENT CHASEby Lenskart Polarized, UV Protection Wayfarer Sunglasse...₹501₹1,99974% offFree deliveryHot Deal',\n",
       " 'METRONAUTUV Protection, Riding Glasses Sunglass₹399₹79950% offFree deliveryOnly few left',\n",
       " 'ATOUCHUV Protection Rectangular Sunglasses (Free Size)₹264₹2,29988% offFree deliverySale Price Live',\n",
       " 'DressberryUV Protection Wayfarer Sunglasses (58)₹518₹2,40078% offFree deliveryLowest price since launch',\n",
       " 'VINCENT CHASEby Lenskart Polarized, UV Protection Round Sunglasses (...₹706₹1,99964% offFree deliveryLowest price in the year',\n",
       " 'StylozeRiding Glasses, Night Vision Wayfarer Sunglasses (Free ...₹179₹71574% offFree deliveryOnly few left',\n",
       " 'VINCENT CHASEby Lenskart Polarized, UV Protection Wayfarer Sunglasse...₹549₹1,99972% offFree deliverySale Price Live',\n",
       " 'VINCENT CHASEby Lenskart Polarized, UV Protection Rectangular Sungla...₹659₹1,99967% offFree deliveryLowest price in the year',\n",
       " 'AISLINUV Protection, Gradient Oval Sunglasses (60)₹468₹1,52569% offFree deliveryHot Deal',\n",
       " 'VINCENT CHASEUV Protection Rectangular Sunglasses (56)₹1,499₹1,99925% offFree deliveryOnly few left',\n",
       " 'VINCENT CHASEby Lenskart Polarized, UV Protection Round Sunglasses (...₹799₹1,99960% offFree deliveryHot Deal',\n",
       " 'FastrackUV Protection Rectangular Sunglasses (59)₹753₹1,39946% offFree deliveryLowest Price in 30 days',\n",
       " 'ROADWAYUV Protection Wayfarer, Retro Square Sunglasses (Free S...₹180₹1,29986% offFree deliveryHot Deal',\n",
       " 'ROYAL SONUV Protection Retro Square Sunglasses (58)₹474₹1,49968% offFree deliveryDaily Saver',\n",
       " 'VINCENT CHASEby Lenskart Polarized, UV Protection Aviator Sunglasses...₹599₹1,99970% offFree deliverySale Price Live',\n",
       " 'VINCENT CHASEUV Protection Aviator Sunglasses (58)₹1,499₹1,99925% offFree deliveryOnly few left',\n",
       " 'FastrackUV Protection Aviator Sunglasses (Free Size)₹809₹89910% offFree delivery',\n",
       " 'VOYAGEUV Protection Wayfarer Sunglasses (60)₹949₹3,00068% offFree deliveryHot Deal',\n",
       " 'ROYAL SONUV Protection Retro Square Sunglasses (Free Size)₹474₹1,29963% offFree deliveryDaily Saver',\n",
       " 'New SpecsUV Protection Rectangular Sunglasses (Free Size)₹299₹2,59988% offFree deliveryOnly few left',\n",
       " 'hayden haizaUV Protection Retro Square Sunglasses (58)₹232₹1,40083% offFree deliveryHot Deal',\n",
       " 'IRUSGradient Retro Square Sunglasses (63)₹1,702₹1,8708% offFree deliveryOnly 5 left',\n",
       " 'VINCENT CHASEby Lenskart Polarized, UV Protection Round Sunglasses (...₹711₹1,99964% offFree deliveryHot Deal',\n",
       " 'VINCENT CHASEby Lenskart Polarized, UV Protection Wayfarer Sunglasse...₹604₹1,99969% offFree deliveryLowest price in the year',\n",
       " 'KAEN EYEWEARPolarized, UV Protection Rectangular Sunglasses (55)₹1,066₹3,59970% offFree deliverySale Price Live',\n",
       " 'FastrackUV Protection Sports Sunglasses (Free Size)₹539₹99946% offFree deliveryHot Deal',\n",
       " 'ZeemorkUV Protection Retro Square Sunglasses (Free Size)₹219₹1,29983% offFree deliveryOnly few left',\n",
       " 'WogglesUV Protection, Polarized Wayfarer Sunglasses (52)₹549₹1,24655% offFree deliveryHot Deal',\n",
       " 'VINCENT CHASEby Lenskart Polarized, UV Protection Retro Square Sungl...₹769₹1,99961% offFree deliverySale Price Live',\n",
       " 'SunveilUV Protection Retro Square Sunglasses (54)₹279₹89968% offFree delivery',\n",
       " 'AISLINUV Protection, Gradient Retro Square Sunglasses (59)₹468₹1,52569% offFree deliveryHot Deal',\n",
       " 'The MagnifiqueGradient, UV Protection Rectangular Sunglasses (Free Si...₹401₹1,59974% offFree deliveryLowest price since launch',\n",
       " 'AGFashionUV Protection, Toughened Glass Lens, Riding Glasses, Po...₹182₹1,99990% offFree delivery',\n",
       " 'EyewearlabsPolarized, UV Protection Wrap-around Sunglasses (75)₹3,149₹3,59912% offFree deliveryLowest Price in 30 days',\n",
       " 'AISLINUV Protection, Gradient Butterfly, Retro Square Sunglas...₹495₹1,52567% offSize Large',\n",
       " 'ALNATURAUV Protection Cat-eye Sunglasses (Free Size)₹299₹69957% offFree deliverySale Price Live',\n",
       " 'elegantePolarized, Riding Glasses, Night Vision Sports Sunglass...₹435₹2,29981% offFree deliveryHot Deal',\n",
       " 'VOYAGEUV Protection Wayfarer Sunglasses (59)₹999₹1,80044% offFree deliveryHot Deal',\n",
       " 'ROYAL SONUV Protection, Gradient Butterfly Sunglasses (62)₹664₹1,99966% offFree deliveryDaily Saver',\n",
       " 'VINCENT CHASEby Lenskart UV Protection Cat-eye Sunglasses (60)₹469₹1,99976% offFree deliveryLowest price in the year',\n",
       " 'Ray-BanPolarized Aviator Sunglasses (59)₹5,873₹8,39030% offFree deliveryHot Deal',\n",
       " 'Online MantraUV Protection Round, Aviator Sunglasses (Free Size)₹235₹50053% offFree delivery',\n",
       " 'PIRASOUV Protection Cat-eye Sunglasses (55)₹179₹1,59988% offFree deliveryLowest price in the year',\n",
       " 'AISLINToughened Glass Lens, UV Protection Aviator, Wrap-aroun...₹775₹3,69979% offFree delivery',\n",
       " 'SAM AND MARSHALLPolarized, UV Protection Retro Square Sunglasses (Free ...₹2,025₹4,00049% offFree delivery',\n",
       " 'IrayzNight Vision, Polarized, UV Protection, Riding Glasses ...₹313₹2,99989% offFree deliveryLowest price in the year',\n",
       " 'ZeemorkUV Protection Rectangular Sunglasses (Free Size)₹340₹1,99982% offFree deliveryHot Deal']"
      ]
     },
     "execution_count": 69,
     "metadata": {},
     "output_type": "execute_result"
    }
   ],
   "source": [
    "Product_discription[0:100]"
   ]
  },
  {
   "cell_type": "code",
   "execution_count": 70,
   "id": "f13e492e",
   "metadata": {},
   "outputs": [
    {
     "data": {
      "text/plain": [
       "['₹979',\n",
       " '₹696',\n",
       " '₹534',\n",
       " '₹470',\n",
       " '₹302',\n",
       " '₹659',\n",
       " '₹539',\n",
       " '₹850',\n",
       " '₹475',\n",
       " '₹799',\n",
       " '₹379',\n",
       " '₹710',\n",
       " '₹236',\n",
       " '₹399',\n",
       " '₹750',\n",
       " '₹593',\n",
       " '₹799',\n",
       " '₹638',\n",
       " '₹1,499',\n",
       " '₹484',\n",
       " '₹649',\n",
       " '₹711',\n",
       " '₹363',\n",
       " '₹713',\n",
       " '₹538',\n",
       " '₹489',\n",
       " '₹604',\n",
       " '₹579',\n",
       " '₹1,499',\n",
       " '₹799',\n",
       " '₹664',\n",
       " '₹664',\n",
       " '₹776',\n",
       " '₹594',\n",
       " '₹399',\n",
       " '₹481',\n",
       " '₹714',\n",
       " '₹843',\n",
       " '₹599',\n",
       " '₹453',\n",
       " '₹469',\n",
       " '₹713',\n",
       " '₹1,499',\n",
       " '₹501',\n",
       " '₹474',\n",
       " '₹378',\n",
       " '₹579',\n",
       " '₹549',\n",
       " '₹850',\n",
       " '₹165',\n",
       " '₹655',\n",
       " '₹664',\n",
       " '₹755',\n",
       " '₹501',\n",
       " '₹399',\n",
       " '₹264',\n",
       " '₹518',\n",
       " '₹706',\n",
       " '₹179',\n",
       " '₹549',\n",
       " '₹659',\n",
       " '₹468',\n",
       " '₹1,499',\n",
       " '₹799',\n",
       " '₹753',\n",
       " '₹180',\n",
       " '₹474',\n",
       " '₹599',\n",
       " '₹1,499',\n",
       " '₹809',\n",
       " '₹949',\n",
       " '₹474',\n",
       " '₹299',\n",
       " '₹232',\n",
       " '₹1,702',\n",
       " '₹711',\n",
       " '₹604',\n",
       " '₹1,066',\n",
       " '₹539',\n",
       " '₹219',\n",
       " '₹549',\n",
       " '₹769',\n",
       " '₹279',\n",
       " '₹468',\n",
       " '₹401',\n",
       " '₹182',\n",
       " '₹3,149',\n",
       " '₹495',\n",
       " '₹299',\n",
       " '₹435',\n",
       " '₹999',\n",
       " '₹664',\n",
       " '₹469',\n",
       " '₹5,873',\n",
       " '₹235',\n",
       " '₹179',\n",
       " '₹775',\n",
       " '₹2,025',\n",
       " '₹313',\n",
       " '₹340']"
      ]
     },
     "execution_count": 70,
     "metadata": {},
     "output_type": "execute_result"
    }
   ],
   "source": [
    "Price[0:100]"
   ]
  },
  {
   "cell_type": "code",
   "execution_count": null,
   "id": "a481b9c3",
   "metadata": {},
   "outputs": [],
   "source": []
  }
 ],
 "metadata": {
  "kernelspec": {
   "display_name": "Python 3 (ipykernel)",
   "language": "python",
   "name": "python3"
  },
  "language_info": {
   "codemirror_mode": {
    "name": "ipython",
    "version": 3
   },
   "file_extension": ".py",
   "mimetype": "text/x-python",
   "name": "python",
   "nbconvert_exporter": "python",
   "pygments_lexer": "ipython3",
   "version": "3.11.5"
  }
 },
 "nbformat": 4,
 "nbformat_minor": 5
}
