{
 "cells": [
  {
   "cell_type": "markdown",
   "id": "6a5cb9b9",
   "metadata": {},
   "source": [
    "# Ans 1"
   ]
  },
  {
   "cell_type": "code",
   "execution_count": 18,
   "id": "a06d1ac8",
   "metadata": {},
   "outputs": [],
   "source": [
    "import selenium\n",
    "import pandas as pd\n",
    "from selenium import webdriver\n",
    "import warnings\n",
    "warnings.filterwarnings('ignore')\n",
    "from selenium.webdriver.common.by import By\n",
    "import time"
   ]
  },
  {
   "cell_type": "code",
   "execution_count": 19,
   "id": "b6e3a3b6",
   "metadata": {},
   "outputs": [],
   "source": [
    "# open Chrome webpage.\n",
    "driver= webdriver.Chrome()"
   ]
  },
  {
   "cell_type": "code",
   "execution_count": 20,
   "id": "3362c8a8",
   "metadata": {},
   "outputs": [],
   "source": [
    "# opening the naukri page on automated Chrome browser\n",
    "driver.get(\"https://www.naukri.com/\")"
   ]
  },
  {
   "cell_type": "code",
   "execution_count": 21,
   "id": "e9063978",
   "metadata": {},
   "outputs": [],
   "source": [
    "# open the designation from naukri page.\n",
    "designation = driver.find_element(By.CLASS_NAME,\"suggestor-input \")\n",
    "designation.send_keys('Data Scientist')"
   ]
  },
  {
   "cell_type": "code",
   "execution_count": 22,
   "id": "c15e2451",
   "metadata": {},
   "outputs": [],
   "source": [
    "# click search on the related to designation.\n",
    "search = driver.find_element(By.CLASS_NAME,\"qsbSubmit\")\n",
    "search.click()"
   ]
  },
  {
   "cell_type": "code",
   "execution_count": 23,
   "id": "1f1dbdb3",
   "metadata": {},
   "outputs": [],
   "source": [
    "# click salary range 3-6 lakhs in filter\n",
    "salaray_filter = driver.find_element(By.XPATH,'//span[@title=\"3-6 Lakhs\"]').click()"
   ]
  },
  {
   "cell_type": "code",
   "execution_count": 24,
   "id": "fdf1b348",
   "metadata": {},
   "outputs": [],
   "source": [
    "#click location delhi/NCR lakhs in filter\n",
    "filter_location = driver.find_element(By.XPATH,'//span[@title=\"Delhi / NCR\"]').click()"
   ]
  },
  {
   "cell_type": "code",
   "execution_count": 25,
   "id": "cad5bb05",
   "metadata": {},
   "outputs": [],
   "source": [
    "# here create lists job_title, job_location, company_name and experience required.\n",
    "job_title=[]\n",
    "job_location=[]\n",
    "company_name=[]\n",
    "experience_required =[]"
   ]
  },
  {
   "cell_type": "code",
   "execution_count": 26,
   "id": "f89037ba",
   "metadata": {},
   "outputs": [],
   "source": [
    "# scrup job_title from naukri page.\n",
    "job_tags = driver.find_elements(By.XPATH,'//a[@rel=\"noopener noreferrer\"]')\n",
    "for i in job_tags[0:10]:\n",
    "    title = i.text.strip()\n",
    "    job_title.append(title)\n",
    "    \n",
    "# scrup job_location from naukri page.\n",
    "location_tags = driver.find_elements(By.XPATH,'//span[@class=\"locWdth\"]')\n",
    "for i in location_tags[0:10]:\n",
    "    location = i.text\n",
    "    job_location.append(location)\n",
    "    \n",
    "# scrup company name from naukri page.\n",
    "company_tags= driver.find_elements(By.XPATH,'//a[@class=\" comp-name mw-25\"]')\n",
    "for i in company_tags[0:10]:\n",
    "    company = i.text\n",
    "    company_name.append(company)\n",
    "    \n",
    "# Scrup experience required from naukri page.\n",
    "experience_tags = driver.find_elements(By.XPATH,'//span[@class=\"expwdth\"]')\n",
    "for i in experience_tags[0:10]:\n",
    "    experience = i.text\n",
    "    experience_required.append(experience)"
   ]
  },
  {
   "cell_type": "code",
   "execution_count": 27,
   "id": "a57d0458",
   "metadata": {},
   "outputs": [
    {
     "data": {
      "text/plain": [
       "['Data Scientist',\n",
       " 'Data Scientist (AI/ML)|| US Based MNC || Noida',\n",
       " 'Data Scientist',\n",
       " 'Data Analyst & Data Scientist',\n",
       " 'Data Scientist/Data Analyst - LLM',\n",
       " 'Data Scientist',\n",
       " 'Data Scientist',\n",
       " 'Data Scientist',\n",
       " 'Data Scientist - I',\n",
       " 'Data Scientist']"
      ]
     },
     "execution_count": 27,
     "metadata": {},
     "output_type": "execute_result"
    }
   ],
   "source": [
    "job_title"
   ]
  },
  {
   "cell_type": "code",
   "execution_count": 28,
   "id": "525672df",
   "metadata": {},
   "outputs": [
    {
     "data": {
      "text/plain": [
       "['Kolkata, Mumbai, New Delhi, Hyderabad, Pune, Chennai, Bengaluru',\n",
       " 'Hybrid - Noida',\n",
       " 'Gurugram',\n",
       " 'Gurugram',\n",
       " 'Kolkata, Mumbai, New Delhi, Hyderabad, Pune, Chennai, Bengaluru',\n",
       " 'Gurugram',\n",
       " 'New Delhi',\n",
       " 'Noida',\n",
       " 'Gurugram',\n",
       " 'Gurugram']"
      ]
     },
     "execution_count": 28,
     "metadata": {},
     "output_type": "execute_result"
    }
   ],
   "source": [
    "job_location"
   ]
  },
  {
   "cell_type": "code",
   "execution_count": 29,
   "id": "331a921c",
   "metadata": {},
   "outputs": [
    {
     "data": {
      "text/plain": [
       "['Nityo Infotech',\n",
       " 'Biz Tech Consultants',\n",
       " 'Varuna Integrated Logistics',\n",
       " 'Collegedunia',\n",
       " 'Innovaccer',\n",
       " 'Netomi',\n",
       " 'Birdeye Australia',\n",
       " 'Biz Tech Consultants',\n",
       " 'Biz Tech Consultants',\n",
       " 'Intense Technologies']"
      ]
     },
     "execution_count": 29,
     "metadata": {},
     "output_type": "execute_result"
    }
   ],
   "source": [
    "company_name"
   ]
  },
  {
   "cell_type": "code",
   "execution_count": 30,
   "id": "56bf469d",
   "metadata": {},
   "outputs": [
    {
     "data": {
      "text/plain": [
       "['3-7 Yrs',\n",
       " '3-5 Yrs',\n",
       " '3-8 Yrs',\n",
       " '3-8 Yrs',\n",
       " '2-6 Yrs',\n",
       " '0-2 Yrs',\n",
       " '0-5 Yrs',\n",
       " '2-7 Yrs',\n",
       " '3-6 Yrs',\n",
       " '1-2 Yrs']"
      ]
     },
     "execution_count": 30,
     "metadata": {},
     "output_type": "execute_result"
    }
   ],
   "source": [
    "experience_required"
   ]
  },
  {
   "cell_type": "code",
   "execution_count": 31,
   "id": "453bd63c",
   "metadata": {},
   "outputs": [],
   "source": [
    "# Creat dataframe of each job details.\n",
    "df = pd.DataFrame({'Job Title':job_title,'Job Location':job_location,'Company Name':company_name,'Experience Required':experience_required})"
   ]
  },
  {
   "cell_type": "code",
   "execution_count": 32,
   "id": "357ea784",
   "metadata": {},
   "outputs": [
    {
     "data": {
      "text/html": [
       "<div>\n",
       "<style scoped>\n",
       "    .dataframe tbody tr th:only-of-type {\n",
       "        vertical-align: middle;\n",
       "    }\n",
       "\n",
       "    .dataframe tbody tr th {\n",
       "        vertical-align: top;\n",
       "    }\n",
       "\n",
       "    .dataframe thead th {\n",
       "        text-align: right;\n",
       "    }\n",
       "</style>\n",
       "<table border=\"1\" class=\"dataframe\">\n",
       "  <thead>\n",
       "    <tr style=\"text-align: right;\">\n",
       "      <th></th>\n",
       "      <th>Job Title</th>\n",
       "      <th>Job Location</th>\n",
       "      <th>Company Name</th>\n",
       "      <th>Experience Required</th>\n",
       "    </tr>\n",
       "  </thead>\n",
       "  <tbody>\n",
       "    <tr>\n",
       "      <th>0</th>\n",
       "      <td>Data Scientist</td>\n",
       "      <td>Kolkata, Mumbai, New Delhi, Hyderabad, Pune, C...</td>\n",
       "      <td>Nityo Infotech</td>\n",
       "      <td>3-7 Yrs</td>\n",
       "    </tr>\n",
       "    <tr>\n",
       "      <th>1</th>\n",
       "      <td>Data Scientist (AI/ML)|| US Based MNC || Noida</td>\n",
       "      <td>Hybrid - Noida</td>\n",
       "      <td>Biz Tech Consultants</td>\n",
       "      <td>3-5 Yrs</td>\n",
       "    </tr>\n",
       "    <tr>\n",
       "      <th>2</th>\n",
       "      <td>Data Scientist</td>\n",
       "      <td>Gurugram</td>\n",
       "      <td>Varuna Integrated Logistics</td>\n",
       "      <td>3-8 Yrs</td>\n",
       "    </tr>\n",
       "    <tr>\n",
       "      <th>3</th>\n",
       "      <td>Data Analyst &amp; Data Scientist</td>\n",
       "      <td>Gurugram</td>\n",
       "      <td>Collegedunia</td>\n",
       "      <td>3-8 Yrs</td>\n",
       "    </tr>\n",
       "    <tr>\n",
       "      <th>4</th>\n",
       "      <td>Data Scientist/Data Analyst - LLM</td>\n",
       "      <td>Kolkata, Mumbai, New Delhi, Hyderabad, Pune, C...</td>\n",
       "      <td>Innovaccer</td>\n",
       "      <td>2-6 Yrs</td>\n",
       "    </tr>\n",
       "    <tr>\n",
       "      <th>5</th>\n",
       "      <td>Data Scientist</td>\n",
       "      <td>Gurugram</td>\n",
       "      <td>Netomi</td>\n",
       "      <td>0-2 Yrs</td>\n",
       "    </tr>\n",
       "    <tr>\n",
       "      <th>6</th>\n",
       "      <td>Data Scientist</td>\n",
       "      <td>New Delhi</td>\n",
       "      <td>Birdeye Australia</td>\n",
       "      <td>0-5 Yrs</td>\n",
       "    </tr>\n",
       "    <tr>\n",
       "      <th>7</th>\n",
       "      <td>Data Scientist</td>\n",
       "      <td>Noida</td>\n",
       "      <td>Biz Tech Consultants</td>\n",
       "      <td>2-7 Yrs</td>\n",
       "    </tr>\n",
       "    <tr>\n",
       "      <th>8</th>\n",
       "      <td>Data Scientist - I</td>\n",
       "      <td>Gurugram</td>\n",
       "      <td>Biz Tech Consultants</td>\n",
       "      <td>3-6 Yrs</td>\n",
       "    </tr>\n",
       "    <tr>\n",
       "      <th>9</th>\n",
       "      <td>Data Scientist</td>\n",
       "      <td>Gurugram</td>\n",
       "      <td>Intense Technologies</td>\n",
       "      <td>1-2 Yrs</td>\n",
       "    </tr>\n",
       "  </tbody>\n",
       "</table>\n",
       "</div>"
      ],
      "text/plain": [
       "                                        Job Title  \\\n",
       "0                                  Data Scientist   \n",
       "1  Data Scientist (AI/ML)|| US Based MNC || Noida   \n",
       "2                                  Data Scientist   \n",
       "3                   Data Analyst & Data Scientist   \n",
       "4               Data Scientist/Data Analyst - LLM   \n",
       "5                                  Data Scientist   \n",
       "6                                  Data Scientist   \n",
       "7                                  Data Scientist   \n",
       "8                              Data Scientist - I   \n",
       "9                                  Data Scientist   \n",
       "\n",
       "                                        Job Location  \\\n",
       "0  Kolkata, Mumbai, New Delhi, Hyderabad, Pune, C...   \n",
       "1                                     Hybrid - Noida   \n",
       "2                                           Gurugram   \n",
       "3                                           Gurugram   \n",
       "4  Kolkata, Mumbai, New Delhi, Hyderabad, Pune, C...   \n",
       "5                                           Gurugram   \n",
       "6                                          New Delhi   \n",
       "7                                              Noida   \n",
       "8                                           Gurugram   \n",
       "9                                           Gurugram   \n",
       "\n",
       "                  Company Name Experience Required  \n",
       "0               Nityo Infotech             3-7 Yrs  \n",
       "1         Biz Tech Consultants             3-5 Yrs  \n",
       "2  Varuna Integrated Logistics             3-8 Yrs  \n",
       "3                 Collegedunia             3-8 Yrs  \n",
       "4                   Innovaccer             2-6 Yrs  \n",
       "5                       Netomi             0-2 Yrs  \n",
       "6            Birdeye Australia             0-5 Yrs  \n",
       "7         Biz Tech Consultants             2-7 Yrs  \n",
       "8         Biz Tech Consultants             3-6 Yrs  \n",
       "9         Intense Technologies             1-2 Yrs  "
      ]
     },
     "execution_count": 32,
     "metadata": {},
     "output_type": "execute_result"
    }
   ],
   "source": [
    "df"
   ]
  },
  {
   "cell_type": "markdown",
   "id": "6e71bd11",
   "metadata": {},
   "source": [
    "# Ans 2"
   ]
  },
  {
   "cell_type": "code",
   "execution_count": 67,
   "id": "c0a9b1ed",
   "metadata": {},
   "outputs": [],
   "source": [
    "import selenium\n",
    "import pandas as pd\n",
    "from selenium import webdriver\n",
    "import warnings\n",
    "warnings.filterwarnings('ignore')\n",
    "from selenium.webdriver.common.by import By\n",
    "import time"
   ]
  },
  {
   "cell_type": "code",
   "execution_count": 95,
   "id": "296b4851",
   "metadata": {},
   "outputs": [],
   "source": [
    "# open the webpage Chrome.\n",
    "driver = webdriver.Chrome()"
   ]
  },
  {
   "cell_type": "code",
   "execution_count": 96,
   "id": "4fb4846f",
   "metadata": {},
   "outputs": [],
   "source": [
    "# Open the webpage shine.\n",
    "driver.get(\"https://www.shine.com/\")"
   ]
  },
  {
   "cell_type": "code",
   "execution_count": 98,
   "id": "fad91e51",
   "metadata": {},
   "outputs": [],
   "source": [
    "# Enter \"Data Analyst\" in \"Job title, Skills\" field\n",
    "designation = driver.find_element(By.CLASS_NAME,\"form-control  \")\n",
    "designation.send_keys(\"Data Analyst\")"
   ]
  },
  {
   "cell_type": "code",
   "execution_count": 99,
   "id": "4f7ee846",
   "metadata": {},
   "outputs": [],
   "source": [
    "# Enter \"Bangalore\" in location field.\n",
    "location = driver.find_element(By.XPATH,\"/html/body/div/div[4]/div/div[2]/div[2]/div/form/div/div[1]/ul/li[2]/div/input\")\n",
    "location.send_keys('Bangalore')"
   ]
  },
  {
   "cell_type": "code",
   "execution_count": 100,
   "id": "e85e9dee",
   "metadata": {},
   "outputs": [],
   "source": [
    "# search according to above condition.\n",
    "search = driver.find_element(By.CLASS_NAME,\"searchForm_btnWrap_advance__VYBHN\")\n",
    "search.click()"
   ]
  },
  {
   "cell_type": "code",
   "execution_count": 101,
   "id": "7650b235",
   "metadata": {},
   "outputs": [],
   "source": [
    "# create lists for filling information.\n",
    "job_title=[]\n",
    "job_location=[]\n",
    "company_name=[]\n",
    "experience_required=[]"
   ]
  },
  {
   "cell_type": "code",
   "execution_count": 102,
   "id": "389b5578",
   "metadata": {},
   "outputs": [],
   "source": [
    "# scrup first 10 job title from \"shine\" page.\n",
    "job_tags = driver.find_elements(By.XPATH,'//div[@class=\"jobCard_jobCard_cName__mYnow\"]')\n",
    "for i in job_tags[0:10]:\n",
    "    title = i.text.strip()\n",
    "    job_title.append(title)\n",
    "    \n",
    "# scrup first 10 location from \"shine\" page.\n",
    "location_tags = driver.find_elements(By.XPATH,'//div[@class=\"jobCard_jobCard_lists_item__YxRkV jobCard_locationIcon__zrWt2\"]')\n",
    "for i in location_tags[0:10]:\n",
    "    location = i.text.replace('\\n+8','')\n",
    "    job_location.append(location)\n",
    "    \n",
    "# scrup first 10 company name from \"shine\" page.\n",
    "company_tags = driver.find_elements(By.XPATH,'//div[@class=\"jobCard_jobCard_cName__mYnow\"]')\n",
    "for i in company_tags[0:10]:\n",
    "    company = i.text\n",
    "    company_name.append(company)\n",
    "    \n",
    "# scrup first 10 experience_required from \"shine\" page.\n",
    "experience_tags = driver.find_elements(By.XPATH,'//div[@class=\" jobCard_jobCard_lists_item__YxRkV jobCard_jobIcon__3FB1t\"]')\n",
    "for i in experience_tags[0:10]:\n",
    "    experience = i.text\n",
    "    experience_required.append(experience)"
   ]
  },
  {
   "cell_type": "code",
   "execution_count": 103,
   "id": "227ecb2d",
   "metadata": {},
   "outputs": [
    {
     "data": {
      "text/plain": [
       "['appsoft solutions',\n",
       " 'aryan technology',\n",
       " 'locus enterprises',\n",
       " 'spento papers (india) llp',\n",
       " 'gallagher and mohan private limited',\n",
       " 'diraa hr services hiring for diraa ...',\n",
       " 'ltimindtree limited',\n",
       " 'white horse manpower consultancy (p...',\n",
       " 'techno endura',\n",
       " 'spurtree technologies private limit...']"
      ]
     },
     "execution_count": 103,
     "metadata": {},
     "output_type": "execute_result"
    }
   ],
   "source": [
    "job_title"
   ]
  },
  {
   "cell_type": "code",
   "execution_count": 104,
   "id": "855ea13d",
   "metadata": {},
   "outputs": [
    {
     "data": {
      "text/plain": [
       "['Bangalore',\n",
       " 'Bangalore\\n+4',\n",
       " 'Bangalore\\n+1',\n",
       " 'Bangalore',\n",
       " 'Bangalore',\n",
       " 'Bangalore\\n+2',\n",
       " 'Bangalore',\n",
       " 'Bangalore',\n",
       " 'Bangalore\\n+7',\n",
       " 'Bangalore']"
      ]
     },
     "execution_count": 104,
     "metadata": {},
     "output_type": "execute_result"
    }
   ],
   "source": [
    "job_location"
   ]
  },
  {
   "cell_type": "code",
   "execution_count": 105,
   "id": "fdf25009",
   "metadata": {},
   "outputs": [
    {
     "data": {
      "text/plain": [
       "['appsoft solutions',\n",
       " 'aryan technology',\n",
       " 'locus enterprises',\n",
       " 'spento papers (india) llp',\n",
       " 'gallagher and mohan private limited',\n",
       " 'diraa hr services hiring for diraa ...',\n",
       " 'ltimindtree limited',\n",
       " 'white horse manpower consultancy (p...',\n",
       " 'techno endura',\n",
       " 'spurtree technologies private limit...']"
      ]
     },
     "execution_count": 105,
     "metadata": {},
     "output_type": "execute_result"
    }
   ],
   "source": [
    "company_name"
   ]
  },
  {
   "cell_type": "code",
   "execution_count": 106,
   "id": "5fa71137",
   "metadata": {},
   "outputs": [
    {
     "data": {
      "text/plain": [
       "['0 to 4 Yrs',\n",
       " '0 to 4 Yrs',\n",
       " '4 to 9 Yrs',\n",
       " '8 to 13 Yrs',\n",
       " '2 to 7 Yrs',\n",
       " '0 to 4 Yrs',\n",
       " '6 to 11 Yrs',\n",
       " '5 to 8 Yrs',\n",
       " '0 to 4 Yrs',\n",
       " '5 to 10 Yrs']"
      ]
     },
     "execution_count": 106,
     "metadata": {},
     "output_type": "execute_result"
    }
   ],
   "source": [
    "experience_required"
   ]
  },
  {
   "cell_type": "code",
   "execution_count": 109,
   "id": "d656ac52",
   "metadata": {},
   "outputs": [
    {
     "data": {
      "text/html": [
       "<div>\n",
       "<style scoped>\n",
       "    .dataframe tbody tr th:only-of-type {\n",
       "        vertical-align: middle;\n",
       "    }\n",
       "\n",
       "    .dataframe tbody tr th {\n",
       "        vertical-align: top;\n",
       "    }\n",
       "\n",
       "    .dataframe thead th {\n",
       "        text-align: right;\n",
       "    }\n",
       "</style>\n",
       "<table border=\"1\" class=\"dataframe\">\n",
       "  <thead>\n",
       "    <tr style=\"text-align: right;\">\n",
       "      <th></th>\n",
       "      <th>Job Tile</th>\n",
       "      <th>Job Location</th>\n",
       "      <th>Company Name</th>\n",
       "      <th>Experience Required</th>\n",
       "    </tr>\n",
       "  </thead>\n",
       "  <tbody>\n",
       "    <tr>\n",
       "      <th>0</th>\n",
       "      <td>appsoft solutions</td>\n",
       "      <td>Bangalore</td>\n",
       "      <td>appsoft solutions</td>\n",
       "      <td>0 to 4 Yrs</td>\n",
       "    </tr>\n",
       "    <tr>\n",
       "      <th>1</th>\n",
       "      <td>aryan technology</td>\n",
       "      <td>Bangalore\\n+4</td>\n",
       "      <td>aryan technology</td>\n",
       "      <td>0 to 4 Yrs</td>\n",
       "    </tr>\n",
       "    <tr>\n",
       "      <th>2</th>\n",
       "      <td>locus enterprises</td>\n",
       "      <td>Bangalore\\n+1</td>\n",
       "      <td>locus enterprises</td>\n",
       "      <td>4 to 9 Yrs</td>\n",
       "    </tr>\n",
       "    <tr>\n",
       "      <th>3</th>\n",
       "      <td>spento papers (india) llp</td>\n",
       "      <td>Bangalore</td>\n",
       "      <td>spento papers (india) llp</td>\n",
       "      <td>8 to 13 Yrs</td>\n",
       "    </tr>\n",
       "    <tr>\n",
       "      <th>4</th>\n",
       "      <td>gallagher and mohan private limited</td>\n",
       "      <td>Bangalore</td>\n",
       "      <td>gallagher and mohan private limited</td>\n",
       "      <td>2 to 7 Yrs</td>\n",
       "    </tr>\n",
       "    <tr>\n",
       "      <th>5</th>\n",
       "      <td>diraa hr services hiring for diraa ...</td>\n",
       "      <td>Bangalore\\n+2</td>\n",
       "      <td>diraa hr services hiring for diraa ...</td>\n",
       "      <td>0 to 4 Yrs</td>\n",
       "    </tr>\n",
       "    <tr>\n",
       "      <th>6</th>\n",
       "      <td>ltimindtree limited</td>\n",
       "      <td>Bangalore</td>\n",
       "      <td>ltimindtree limited</td>\n",
       "      <td>6 to 11 Yrs</td>\n",
       "    </tr>\n",
       "    <tr>\n",
       "      <th>7</th>\n",
       "      <td>white horse manpower consultancy (p...</td>\n",
       "      <td>Bangalore</td>\n",
       "      <td>white horse manpower consultancy (p...</td>\n",
       "      <td>5 to 8 Yrs</td>\n",
       "    </tr>\n",
       "    <tr>\n",
       "      <th>8</th>\n",
       "      <td>techno endura</td>\n",
       "      <td>Bangalore\\n+7</td>\n",
       "      <td>techno endura</td>\n",
       "      <td>0 to 4 Yrs</td>\n",
       "    </tr>\n",
       "    <tr>\n",
       "      <th>9</th>\n",
       "      <td>spurtree technologies private limit...</td>\n",
       "      <td>Bangalore</td>\n",
       "      <td>spurtree technologies private limit...</td>\n",
       "      <td>5 to 10 Yrs</td>\n",
       "    </tr>\n",
       "  </tbody>\n",
       "</table>\n",
       "</div>"
      ],
      "text/plain": [
       "                                 Job Tile   Job Location  \\\n",
       "0                       appsoft solutions      Bangalore   \n",
       "1                        aryan technology  Bangalore\\n+4   \n",
       "2                       locus enterprises  Bangalore\\n+1   \n",
       "3               spento papers (india) llp      Bangalore   \n",
       "4     gallagher and mohan private limited      Bangalore   \n",
       "5  diraa hr services hiring for diraa ...  Bangalore\\n+2   \n",
       "6                     ltimindtree limited      Bangalore   \n",
       "7  white horse manpower consultancy (p...      Bangalore   \n",
       "8                           techno endura  Bangalore\\n+7   \n",
       "9  spurtree technologies private limit...      Bangalore   \n",
       "\n",
       "                             Company Name Experience Required  \n",
       "0                       appsoft solutions          0 to 4 Yrs  \n",
       "1                        aryan technology          0 to 4 Yrs  \n",
       "2                       locus enterprises          4 to 9 Yrs  \n",
       "3               spento papers (india) llp         8 to 13 Yrs  \n",
       "4     gallagher and mohan private limited          2 to 7 Yrs  \n",
       "5  diraa hr services hiring for diraa ...          0 to 4 Yrs  \n",
       "6                     ltimindtree limited         6 to 11 Yrs  \n",
       "7  white horse manpower consultancy (p...          5 to 8 Yrs  \n",
       "8                           techno endura          0 to 4 Yrs  \n",
       "9  spurtree technologies private limit...         5 to 10 Yrs  "
      ]
     },
     "execution_count": 109,
     "metadata": {},
     "output_type": "execute_result"
    }
   ],
   "source": [
    "# creat DataFrme scrape the data for the first 10 jobs results.\n",
    "df = pd.DataFrame({'Job Tile':job_title,'Job Location':job_location,'Company Name':company_name,'Experience Required':experience_required})\n",
    "df"
   ]
  },
  {
   "cell_type": "markdown",
   "id": "af1d0213",
   "metadata": {},
   "source": [
    "# Ans 3"
   ]
  },
  {
   "cell_type": "code",
   "execution_count": 44,
   "id": "33a31047",
   "metadata": {},
   "outputs": [],
   "source": [
    "import selenium\n",
    "import pandas as pd\n",
    "from selenium import webdriver\n",
    "import warnings\n",
    "warnings.filterwarnings('ignore')\n",
    "from selenium.webdriver.common.by import By\n",
    "import time"
   ]
  },
  {
   "cell_type": "code",
   "execution_count": 45,
   "id": "41196d49",
   "metadata": {},
   "outputs": [],
   "source": [
    "# Scrup data from link:- https://www.flipkart.com/apple-iphone-11-black-64-gb/product-reviews/itm4e5041ba101fd?pid=MOBFWQ6BXGJCEYNY&lid=LSTMOBFWQ6BXGJCEYNYZXSHRJ&marketplace=FLIPKART"
   ]
  },
  {
   "cell_type": "code",
   "execution_count": 46,
   "id": "db04d1a0",
   "metadata": {},
   "outputs": [],
   "source": [
    "# open the webpage \"Chrome\"\n",
    "driver = webdriver.Chrome()"
   ]
  },
  {
   "cell_type": "code",
   "execution_count": 47,
   "id": "057e1228",
   "metadata": {},
   "outputs": [],
   "source": [
    "# open the question given link. \"for iphone11\"\n",
    "driver.get(\"https://www.flipkart.com/apple-iphone-11-black-64-gb/product-reviews/itm4e5041ba101fd?pid=MOBFWQ6BXGJCEYNY&lid=LSTMOBFWQ6BXGJCEYNYZXSHRJ&marketplace=FLIPKART\")"
   ]
  },
  {
   "cell_type": "code",
   "execution_count": 48,
   "id": "933120e4",
   "metadata": {},
   "outputs": [],
   "source": [
    "# create lists for rating , Review summary, Full review.\n",
    "Rating = []\n",
    "Review_summary=[]\n",
    "Full_review = []"
   ]
  },
  {
   "cell_type": "code",
   "execution_count": 49,
   "id": "68ca044d",
   "metadata": {},
   "outputs": [],
   "source": [
    "# scrup first 100 data, Rating , Review summary, Full Review from given link.\n",
    "start = 0\n",
    "end = 10\n",
    "for page in range(start,end):\n",
    "# scrup iphone11 \"Rating\" from given link.\n",
    "    rating_tags = driver.find_elements(By.XPATH,'//div[@class=\"XQDdHH Ga3i8K\"]')\n",
    "    for i in rating_tags[0:100]:\n",
    "        Rating.append(i.text)\n",
    "        \n",
    "# Scrup first 100 iphone11 \"Review summary\" from given link\n",
    "    review_sm_tags = driver.find_elements(By.XPATH,'//p[@class=\"z9E0IG\"]')\n",
    "    for i in review_sm_tags[0:100]:\n",
    "        Review_summary.append(i.text)\n",
    "        \n",
    "# Scrup first 100 iphone11 \"Full Review\" from given link.\n",
    "    Full_review_tags = driver.find_elements(By.XPATH,'//div[@class=\"ZmyHeo\"]')\n",
    "    for i in Full_review_tags[0:100]:\n",
    "        Full_review.append(i.text)\n",
    "    \n",
    "    next_button = driver.find_element(By.XPATH,'/html/body/div/div/div[3]/div/div/div[2]/div[13]')\n",
    "    next_button.click()\n",
    "    time.sleep(10)        "
   ]
  },
  {
   "cell_type": "code",
   "execution_count": 54,
   "id": "91e98f1c",
   "metadata": {},
   "outputs": [],
   "source": [
    "df = pd.DataFrame({\"Rating\":Rating,\"Review Summary\":Review_summary,\"Full Review\":Full_review})"
   ]
  },
  {
   "cell_type": "code",
   "execution_count": 56,
   "id": "e6bbb96f",
   "metadata": {},
   "outputs": [
    {
     "data": {
      "text/html": [
       "<div>\n",
       "<style scoped>\n",
       "    .dataframe tbody tr th:only-of-type {\n",
       "        vertical-align: middle;\n",
       "    }\n",
       "\n",
       "    .dataframe tbody tr th {\n",
       "        vertical-align: top;\n",
       "    }\n",
       "\n",
       "    .dataframe thead th {\n",
       "        text-align: right;\n",
       "    }\n",
       "</style>\n",
       "<table border=\"1\" class=\"dataframe\">\n",
       "  <thead>\n",
       "    <tr style=\"text-align: right;\">\n",
       "      <th></th>\n",
       "      <th>Rating</th>\n",
       "      <th>Review Summary</th>\n",
       "      <th>Full Review</th>\n",
       "    </tr>\n",
       "  </thead>\n",
       "  <tbody>\n",
       "    <tr>\n",
       "      <th>0</th>\n",
       "      <td>5</td>\n",
       "      <td>Terrific</td>\n",
       "      <td>Very very good</td>\n",
       "    </tr>\n",
       "    <tr>\n",
       "      <th>1</th>\n",
       "      <td>5</td>\n",
       "      <td>Best in the market!</td>\n",
       "      <td>Good Camera</td>\n",
       "    </tr>\n",
       "    <tr>\n",
       "      <th>2</th>\n",
       "      <td>5</td>\n",
       "      <td>Classy product</td>\n",
       "      <td>Camera is awesome\\nBest battery backup\\nA perf...</td>\n",
       "    </tr>\n",
       "    <tr>\n",
       "      <th>3</th>\n",
       "      <td>5</td>\n",
       "      <td>Worth every penny</td>\n",
       "      <td>Feeling awesome after getting the delivery of ...</td>\n",
       "    </tr>\n",
       "    <tr>\n",
       "      <th>4</th>\n",
       "      <td>5</td>\n",
       "      <td>Terrific purchase</td>\n",
       "      <td>Value for money 😍</td>\n",
       "    </tr>\n",
       "    <tr>\n",
       "      <th>...</th>\n",
       "      <td>...</td>\n",
       "      <td>...</td>\n",
       "      <td>...</td>\n",
       "    </tr>\n",
       "    <tr>\n",
       "      <th>95</th>\n",
       "      <td>5</td>\n",
       "      <td>Worth every penny</td>\n",
       "      <td>Previously I was using one plus 3t it was a gr...</td>\n",
       "    </tr>\n",
       "    <tr>\n",
       "      <th>96</th>\n",
       "      <td>5</td>\n",
       "      <td>Brilliant</td>\n",
       "      <td>Phone Is So Good</td>\n",
       "    </tr>\n",
       "    <tr>\n",
       "      <th>97</th>\n",
       "      <td>5</td>\n",
       "      <td>Mind-blowing purchase</td>\n",
       "      <td>I’m satisfy😍😍</td>\n",
       "    </tr>\n",
       "    <tr>\n",
       "      <th>98</th>\n",
       "      <td>4</td>\n",
       "      <td>Very Good</td>\n",
       "      <td>🎈Battery\\n🎈Performance\\n🎈Camera\\n🎈Price\\n\\n🎊Al...</td>\n",
       "    </tr>\n",
       "    <tr>\n",
       "      <th>99</th>\n",
       "      <td>5</td>\n",
       "      <td>Awesome</td>\n",
       "      <td>I dreamt about this day from a long time.... G...</td>\n",
       "    </tr>\n",
       "  </tbody>\n",
       "</table>\n",
       "<p>100 rows × 3 columns</p>\n",
       "</div>"
      ],
      "text/plain": [
       "   Rating         Review Summary  \\\n",
       "0       5               Terrific   \n",
       "1       5    Best in the market!   \n",
       "2       5         Classy product   \n",
       "3       5      Worth every penny   \n",
       "4       5      Terrific purchase   \n",
       "..    ...                    ...   \n",
       "95      5      Worth every penny   \n",
       "96      5              Brilliant   \n",
       "97      5  Mind-blowing purchase   \n",
       "98      4              Very Good   \n",
       "99      5                Awesome   \n",
       "\n",
       "                                          Full Review  \n",
       "0                                      Very very good  \n",
       "1                                         Good Camera  \n",
       "2   Camera is awesome\\nBest battery backup\\nA perf...  \n",
       "3   Feeling awesome after getting the delivery of ...  \n",
       "4                                   Value for money 😍  \n",
       "..                                                ...  \n",
       "95  Previously I was using one plus 3t it was a gr...  \n",
       "96                                   Phone Is So Good  \n",
       "97                                      I’m satisfy😍😍  \n",
       "98  🎈Battery\\n🎈Performance\\n🎈Camera\\n🎈Price\\n\\n🎊Al...  \n",
       "99  I dreamt about this day from a long time.... G...  \n",
       "\n",
       "[100 rows x 3 columns]"
      ]
     },
     "execution_count": 56,
     "metadata": {},
     "output_type": "execute_result"
    }
   ],
   "source": [
    "df"
   ]
  },
  {
   "cell_type": "markdown",
   "id": "1401e2c0",
   "metadata": {},
   "source": [
    "# Ans 4"
   ]
  },
  {
   "cell_type": "code",
   "execution_count": 5,
   "id": "d15ea74c",
   "metadata": {},
   "outputs": [],
   "source": [
    "import selenium\n",
    "import pandas as pd\n",
    "from selenium import webdriver\n",
    "import warnings\n",
    "warnings.filterwarnings('ignore')\n",
    "from selenium.webdriver.common.by import By\n",
    "import time"
   ]
  },
  {
   "cell_type": "code",
   "execution_count": 2,
   "id": "4b50b448",
   "metadata": {},
   "outputs": [],
   "source": [
    "# open Chrome webbrowser.\n",
    "driver = webdriver.Chrome()"
   ]
  },
  {
   "cell_type": "code",
   "execution_count": 7,
   "id": "a7ad90d9",
   "metadata": {},
   "outputs": [],
   "source": [
    "# open given website \"flipkart.com\"\n",
    "driver.get(\"https://www.flipkart.com/\")"
   ]
  },
  {
   "cell_type": "code",
   "execution_count": 11,
   "id": "8d915f53",
   "metadata": {},
   "outputs": [],
   "source": [
    "# entering \"sneakers\" for searching according to question.\n",
    "product_name = driver.find_element(By.CLASS_NAME,\"Pke_EE\")\n",
    "product_name.send_keys(\"sneakers\")"
   ]
  },
  {
   "cell_type": "code",
   "execution_count": 12,
   "id": "3792cad5",
   "metadata": {},
   "outputs": [],
   "source": [
    "# click search for sneakers.\n",
    "search = driver.find_element(By.CLASS_NAME,\"_2iLD__\")\n",
    "search.click()"
   ]
  },
  {
   "cell_type": "code",
   "execution_count": 43,
   "id": "ad99869c",
   "metadata": {},
   "outputs": [],
   "source": [
    "# create list for sneakers  \"Brand\", \"Product description\", \"Price\" Data from flipkart website.\n",
    "Brand = []\n",
    "Product_description = []\n",
    "Price=[]"
   ]
  },
  {
   "cell_type": "code",
   "execution_count": 44,
   "id": "43eee4a1",
   "metadata": {},
   "outputs": [],
   "source": [
    "# Data scrup first 100   \"Brand\", \"Product description\", \"Price\" Data from flipkart website for \"sneakers\".\n",
    "start = 0\n",
    "end = 3\n",
    "for page in range(start,end):\n",
    "# Scrup \"Brand\" Data from \"flipkar\" page for sneakers.\n",
    "    brand_tags = driver.find_elements(By.XPATH,'//div[@class=\"syl9yP\"]')\n",
    "    for i in brand_tags[0:100]:\n",
    "        Brand.append(i.text)\n",
    "        \n",
    "# Scrup \"Product description\" from \"filpkart\" website for sneakers.\n",
    "    description_tag1 = driver.find_elements(By.XPATH,'//a[@class=\"WKTcLC\"]')\n",
    "    description_tag2 = driver.find_elements(By.XPATH,'//a[@class=\"WKTcLC BwBZTg\"]')\n",
    "    description = description_tag1+description_tag2\n",
    "    for i in description[0:100]:\n",
    "        Product_description.append(i.text)\n",
    "        \n",
    "# scrup \"price\" from \"flipkart\" website for sneakers.\n",
    "    price_tags = driver.find_elements(By.XPATH,'//div[@class=\"Nx9bqj\"]')\n",
    "    for i in price_tags[0:100]:\n",
    "        Price.append(i.text)\n",
    "        \n",
    "    next_button = driver.find_element(By.XPATH,'/html/body/div/div/div[3]/div[1]/div[2]/div[12]/div/div/nav/a[11]')\n",
    "    next_button.click()\n",
    "    time.sleep(3)\n",
    "        "
   ]
  },
  {
   "cell_type": "code",
   "execution_count": 54,
   "id": "77e91cad",
   "metadata": {},
   "outputs": [],
   "source": [
    "dict = {\"Brand\":Brand,\"product_description\":Product_description,\"Price\":Price}"
   ]
  },
  {
   "cell_type": "code",
   "execution_count": 59,
   "id": "f64681fc",
   "metadata": {},
   "outputs": [],
   "source": [
    "df = pd.DataFrame({\"Brand\":Brand,\"Product Description\":Product_description,\"Price\":Price})"
   ]
  },
  {
   "cell_type": "code",
   "execution_count": 85,
   "id": "b72f24ef",
   "metadata": {},
   "outputs": [
    {
     "data": {
      "text/html": [
       "<div>\n",
       "<style scoped>\n",
       "    .dataframe tbody tr th:only-of-type {\n",
       "        vertical-align: middle;\n",
       "    }\n",
       "\n",
       "    .dataframe tbody tr th {\n",
       "        vertical-align: top;\n",
       "    }\n",
       "\n",
       "    .dataframe thead th {\n",
       "        text-align: right;\n",
       "    }\n",
       "</style>\n",
       "<table border=\"1\" class=\"dataframe\">\n",
       "  <thead>\n",
       "    <tr style=\"text-align: right;\">\n",
       "      <th></th>\n",
       "      <th>Brand</th>\n",
       "      <th>Product Description</th>\n",
       "      <th>Price</th>\n",
       "    </tr>\n",
       "  </thead>\n",
       "  <tbody>\n",
       "    <tr>\n",
       "      <th>0</th>\n",
       "      <td>lejano</td>\n",
       "      <td>Sneakers For Men</td>\n",
       "      <td>₹429</td>\n",
       "    </tr>\n",
       "    <tr>\n",
       "      <th>1</th>\n",
       "      <td>BRUTON</td>\n",
       "      <td>Lite Casual Shoes Sneakers For Men</td>\n",
       "      <td>₹475</td>\n",
       "    </tr>\n",
       "    <tr>\n",
       "      <th>2</th>\n",
       "      <td>PUMA</td>\n",
       "      <td>UP Sneakers For Men</td>\n",
       "      <td>₹2,079</td>\n",
       "    </tr>\n",
       "    <tr>\n",
       "      <th>3</th>\n",
       "      <td>PUMA</td>\n",
       "      <td>Puma Alfarun Sneakers For Men</td>\n",
       "      <td>₹2,250</td>\n",
       "    </tr>\n",
       "    <tr>\n",
       "      <th>4</th>\n",
       "      <td>corsac</td>\n",
       "      <td>! ComboPack of 2 !Casual Shoes! Sneakers For Men</td>\n",
       "      <td>₹639</td>\n",
       "    </tr>\n",
       "    <tr>\n",
       "      <th>...</th>\n",
       "      <td>...</td>\n",
       "      <td>...</td>\n",
       "      <td>...</td>\n",
       "    </tr>\n",
       "    <tr>\n",
       "      <th>95</th>\n",
       "      <td>NIKE</td>\n",
       "      <td>Serve Pro Lite Sneakers For Men</td>\n",
       "      <td>₹1,999</td>\n",
       "    </tr>\n",
       "    <tr>\n",
       "      <th>96</th>\n",
       "      <td>GO RIDE</td>\n",
       "      <td>Sneakers For Men</td>\n",
       "      <td>₹1,324</td>\n",
       "    </tr>\n",
       "    <tr>\n",
       "      <th>97</th>\n",
       "      <td>MACTREE</td>\n",
       "      <td>Casual Walking Sneakers For Men</td>\n",
       "      <td>₹706</td>\n",
       "    </tr>\n",
       "    <tr>\n",
       "      <th>98</th>\n",
       "      <td>U.S. POLO ASSN.</td>\n",
       "      <td>Trendy-01 White Sneakers,Casuals,Walking,Styli...</td>\n",
       "      <td>₹1,799</td>\n",
       "    </tr>\n",
       "    <tr>\n",
       "      <th>99</th>\n",
       "      <td>PUMA</td>\n",
       "      <td>Puma Rock V1 Sneakers For Men</td>\n",
       "      <td>₹1,349</td>\n",
       "    </tr>\n",
       "  </tbody>\n",
       "</table>\n",
       "<p>100 rows × 3 columns</p>\n",
       "</div>"
      ],
      "text/plain": [
       "              Brand                                Product Description   Price\n",
       "0            lejano                                   Sneakers For Men    ₹429\n",
       "1            BRUTON                 Lite Casual Shoes Sneakers For Men    ₹475\n",
       "2              PUMA                                UP Sneakers For Men  ₹2,079\n",
       "3              PUMA                      Puma Alfarun Sneakers For Men  ₹2,250\n",
       "4            corsac   ! ComboPack of 2 !Casual Shoes! Sneakers For Men    ₹639\n",
       "..              ...                                                ...     ...\n",
       "95             NIKE                    Serve Pro Lite Sneakers For Men  ₹1,999\n",
       "96          GO RIDE                                   Sneakers For Men  ₹1,324\n",
       "97          MACTREE                    Casual Walking Sneakers For Men    ₹706\n",
       "98  U.S. POLO ASSN.  Trendy-01 White Sneakers,Casuals,Walking,Styli...  ₹1,799\n",
       "99             PUMA                      Puma Rock V1 Sneakers For Men  ₹1,349\n",
       "\n",
       "[100 rows x 3 columns]"
      ]
     },
     "execution_count": 85,
     "metadata": {},
     "output_type": "execute_result"
    }
   ],
   "source": [
    "df[0:100]"
   ]
  },
  {
   "cell_type": "markdown",
   "id": "a4ffdf87",
   "metadata": {},
   "source": [
    "# Ans 5"
   ]
  },
  {
   "cell_type": "code",
   "execution_count": 50,
   "id": "19dd1105",
   "metadata": {},
   "outputs": [],
   "source": [
    "import selenium\n",
    "import pandas as pd\n",
    "from selenium import webdriver\n",
    "import warnings\n",
    "warnings.filterwarnings('ignore')\n",
    "from selenium.webdriver.common.by import By\n",
    "import time"
   ]
  },
  {
   "cell_type": "code",
   "execution_count": 59,
   "id": "b4b7c4a0",
   "metadata": {},
   "outputs": [],
   "source": [
    "# opent the Chrome browser.\n",
    "driver = webdriver.Chrome()"
   ]
  },
  {
   "cell_type": "code",
   "execution_count": 60,
   "id": "8379e942",
   "metadata": {},
   "outputs": [],
   "source": [
    "# open given webpage \"https://www.amazon.in/\"\n",
    "driver.get(\"https://www.amazon.in/\")"
   ]
  },
  {
   "cell_type": "code",
   "execution_count": 61,
   "id": "67785d2a",
   "metadata": {},
   "outputs": [],
   "source": [
    "laptop_search = driver.find_element(By.ID,\"twotabsearchtextbox\")\n",
    "laptop_search.send_keys('Laptop')"
   ]
  },
  {
   "cell_type": "code",
   "execution_count": 62,
   "id": "f4dd1e01",
   "metadata": {},
   "outputs": [],
   "source": [
    "search = driver.find_element(By.CLASS_NAME,\"nav-right\")\n",
    "search.click()"
   ]
  },
  {
   "cell_type": "code",
   "execution_count": 64,
   "id": "d02f668d",
   "metadata": {},
   "outputs": [],
   "source": [
    "# SELECT CPU \"intel core i7\" \n",
    "cpu = driver.find_element(By.XPATH,'/html/body/div[1]/div[1]/div[1]/div[2]/div/div[3]/span/div[1]/span/div/div/div[6]/ul[2]/span/span[8]/li/span/a/span')\n",
    "cpu.click()"
   ]
  },
  {
   "cell_type": "code",
   "execution_count": 65,
   "id": "eb8b234a",
   "metadata": {},
   "outputs": [],
   "source": [
    "Title = []\n",
    "Rating = []\n",
    "Price = []"
   ]
  },
  {
   "cell_type": "code",
   "execution_count": 86,
   "id": "7cb00529",
   "metadata": {},
   "outputs": [],
   "source": [
    "# Scrup first 10 every laptop \"Title\",\"Ratind\",\"Price\" from given \"amazon\" webpage for laptop.\n",
    "title_tags = driver.find_elements(By.XPATH,'//div[@class=\"a-section a-spacing-none puis-padding-right-small s-title-instructions-style\"]')\n",
    "for i in title_tags[0:10]:\n",
    "    titles = i.text\n",
    "    Title.append(titles)\n",
    "    \n",
    "\n",
    "    \n",
    "# scrup first 10 \"price\", from amazon webpage for evert \"laptop\"\n",
    "price_tags = driver.find_elements(By.XPATH,'//span[@class=\"a-price\"]')\n",
    "for i in price_tags[0:10]:\n",
    "    prices = i.text\n",
    "    Price.append(prices)"
   ]
  },
  {
   "cell_type": "code",
   "execution_count": 88,
   "id": "b31254f1",
   "metadata": {},
   "outputs": [
    {
     "data": {
      "text/html": [
       "<div>\n",
       "<style scoped>\n",
       "    .dataframe tbody tr th:only-of-type {\n",
       "        vertical-align: middle;\n",
       "    }\n",
       "\n",
       "    .dataframe tbody tr th {\n",
       "        vertical-align: top;\n",
       "    }\n",
       "\n",
       "    .dataframe thead th {\n",
       "        text-align: right;\n",
       "    }\n",
       "</style>\n",
       "<table border=\"1\" class=\"dataframe\">\n",
       "  <thead>\n",
       "    <tr style=\"text-align: right;\">\n",
       "      <th></th>\n",
       "      <th>Title</th>\n",
       "      <th>Price</th>\n",
       "    </tr>\n",
       "  </thead>\n",
       "  <tbody>\n",
       "    <tr>\n",
       "      <th>0</th>\n",
       "      <td>HP Laptop 15s, 12th Gen Intel Core i7-1255U, 1...</td>\n",
       "      <td>₹59,990</td>\n",
       "    </tr>\n",
       "    <tr>\n",
       "      <th>1</th>\n",
       "      <td>Acer Aspire Lite 12th Gen Intel Core i7-1255U ...</td>\n",
       "      <td>₹49,990</td>\n",
       "    </tr>\n",
       "    <tr>\n",
       "      <th>2</th>\n",
       "      <td>Dell [Smartchoice] Inspiron 5430 Thin &amp; Light ...</td>\n",
       "      <td>₹75,490</td>\n",
       "    </tr>\n",
       "    <tr>\n",
       "      <th>3</th>\n",
       "      <td>HP Pavilion 14 12th Gen Intel Core i7 16GB SDR...</td>\n",
       "      <td>₹76,990</td>\n",
       "    </tr>\n",
       "    <tr>\n",
       "      <th>4</th>\n",
       "      <td>ASUS Vivobook 15, 15.6\" (39.62cm) FHD, Intel C...</td>\n",
       "      <td>₹61,990</td>\n",
       "    </tr>\n",
       "    <tr>\n",
       "      <th>5</th>\n",
       "      <td>Acer ALG 13th Gen Intel Core i7 Gaming Laptop ...</td>\n",
       "      <td>₹71,990</td>\n",
       "    </tr>\n",
       "    <tr>\n",
       "      <th>6</th>\n",
       "      <td>Acer Aspire 3 Intel Core i7 12th Gen 1255U - (...</td>\n",
       "      <td>₹57,990</td>\n",
       "    </tr>\n",
       "    <tr>\n",
       "      <th>7</th>\n",
       "      <td>Acer Aspire Lite 12th Gen Intel Core i7-1255U ...</td>\n",
       "      <td>₹55,990</td>\n",
       "    </tr>\n",
       "    <tr>\n",
       "      <th>8</th>\n",
       "      <td>(Refurbished) Dell Latitude 7480 14in FHD Lapt...</td>\n",
       "      <td>₹27,531</td>\n",
       "    </tr>\n",
       "    <tr>\n",
       "      <th>9</th>\n",
       "      <td>Acer Travelmate Business Laptop Intel Core i7-...</td>\n",
       "      <td>₹44,890</td>\n",
       "    </tr>\n",
       "  </tbody>\n",
       "</table>\n",
       "</div>"
      ],
      "text/plain": [
       "                                               Title    Price\n",
       "0  HP Laptop 15s, 12th Gen Intel Core i7-1255U, 1...  ₹59,990\n",
       "1  Acer Aspire Lite 12th Gen Intel Core i7-1255U ...  ₹49,990\n",
       "2  Dell [Smartchoice] Inspiron 5430 Thin & Light ...  ₹75,490\n",
       "3  HP Pavilion 14 12th Gen Intel Core i7 16GB SDR...  ₹76,990\n",
       "4  ASUS Vivobook 15, 15.6\" (39.62cm) FHD, Intel C...  ₹61,990\n",
       "5  Acer ALG 13th Gen Intel Core i7 Gaming Laptop ...  ₹71,990\n",
       "6  Acer Aspire 3 Intel Core i7 12th Gen 1255U - (...  ₹57,990\n",
       "7  Acer Aspire Lite 12th Gen Intel Core i7-1255U ...  ₹55,990\n",
       "8  (Refurbished) Dell Latitude 7480 14in FHD Lapt...  ₹27,531\n",
       "9  Acer Travelmate Business Laptop Intel Core i7-...  ₹44,890"
      ]
     },
     "execution_count": 88,
     "metadata": {},
     "output_type": "execute_result"
    }
   ],
   "source": [
    "df = pd.DataFrame({\"Title\":Title,\"Price\":Price})\n",
    "df"
   ]
  },
  {
   "cell_type": "markdown",
   "id": "c73ca346",
   "metadata": {},
   "source": [
    "# Ans 6"
   ]
  },
  {
   "cell_type": "code",
   "execution_count": 109,
   "id": "b485987f",
   "metadata": {},
   "outputs": [],
   "source": [
    "import selenium\n",
    "import pandas as pd\n",
    "from selenium import webdriver\n",
    "import warnings\n",
    "warnings.filterwarnings('ignore')\n",
    "from selenium.webdriver.common.by import By\n",
    "import time"
   ]
  },
  {
   "cell_type": "code",
   "execution_count": 110,
   "id": "d57ce7c6",
   "metadata": {},
   "outputs": [],
   "source": [
    "# open Chrome webpage.\n",
    "driver = webdriver.Chrome()"
   ]
  },
  {
   "cell_type": "code",
   "execution_count": 111,
   "id": "f7b5c1fc",
   "metadata": {},
   "outputs": [],
   "source": [
    "# open webpage from \"https://www.azquotes.com\"\n",
    "driver.get('https://www.azquotes.com/')"
   ]
  },
  {
   "cell_type": "code",
   "execution_count": 112,
   "id": "d7c27970",
   "metadata": {},
   "outputs": [],
   "source": [
    "top_quotes = driver.find_element(By.XPATH,'/html/body/div[1]/div[1]/div[1]/div/div[3]/ul/li[5]/a')\n",
    "top_quotes.click()"
   ]
  },
  {
   "cell_type": "code",
   "execution_count": 113,
   "id": "8a5167c9",
   "metadata": {},
   "outputs": [],
   "source": [
    "# Create list for store scrup data.\n",
    "Quotes = []\n",
    "Author = []\n",
    "Type_of_quotes = []"
   ]
  },
  {
   "cell_type": "code",
   "execution_count": 114,
   "id": "72c4486b",
   "metadata": {},
   "outputs": [],
   "source": [
    "#scrup first 1000 data from given webpage.\n",
    "start = 0\n",
    "end = 10\n",
    "for page in range(start,end):\n",
    "# Scrup \"quotes\" from given webpage.\n",
    "    quotes_tags = driver.find_elements(By.XPATH,'//a[@class=\"title\"]')\n",
    "    for i in quotes_tags:\n",
    "        Quotes.append(i.text)\n",
    "    # Scrup data for author from given wibsite.\n",
    "    author_tags = driver.find_elements(By.XPATH,'//div[@class=\"author\"]')\n",
    "    for i in author_tags:\n",
    "        Author.append(i.text)\n",
    "# Scrup data for \"Type of quotes\"\n",
    "    quotes_tags = driver.find_elements(By.XPATH,'//div[@class=\"tags\"]')\n",
    "    for i in quotes_tags:\n",
    "        Type_of_quotes.append(i.text)\n",
    "        \n",
    "    next_button = driver.find_element(By.XPATH,'/html/body/div[1]/div[2]/div/div/div/div[1]/div/div[3]/li[12]/a')\n",
    "    next_button.click()\n",
    "    time.sleep(10)\n",
    "        "
   ]
  },
  {
   "cell_type": "code",
   "execution_count": 119,
   "id": "38bc7968",
   "metadata": {},
   "outputs": [
    {
     "data": {
      "text/html": [
       "<div>\n",
       "<style scoped>\n",
       "    .dataframe tbody tr th:only-of-type {\n",
       "        vertical-align: middle;\n",
       "    }\n",
       "\n",
       "    .dataframe tbody tr th {\n",
       "        vertical-align: top;\n",
       "    }\n",
       "\n",
       "    .dataframe thead th {\n",
       "        text-align: right;\n",
       "    }\n",
       "</style>\n",
       "<table border=\"1\" class=\"dataframe\">\n",
       "  <thead>\n",
       "    <tr style=\"text-align: right;\">\n",
       "      <th></th>\n",
       "      <th>Quotes</th>\n",
       "      <th>Author</th>\n",
       "      <th>Type Of Quotes</th>\n",
       "    </tr>\n",
       "  </thead>\n",
       "  <tbody>\n",
       "    <tr>\n",
       "      <th>0</th>\n",
       "      <td>The essence of strategy is choosing what not t...</td>\n",
       "      <td>Michael Porter</td>\n",
       "      <td>Essence, Deep Thought, Transcendentalism</td>\n",
       "    </tr>\n",
       "    <tr>\n",
       "      <th>1</th>\n",
       "      <td>One cannot and must not try to erase the past ...</td>\n",
       "      <td>Golda Meir</td>\n",
       "      <td>Inspiration, Past, Trying</td>\n",
       "    </tr>\n",
       "    <tr>\n",
       "      <th>2</th>\n",
       "      <td>Patriotism means to stand by the country. It d...</td>\n",
       "      <td>Theodore Roosevelt</td>\n",
       "      <td>Country, Peace, War</td>\n",
       "    </tr>\n",
       "    <tr>\n",
       "      <th>3</th>\n",
       "      <td>Death is something inevitable. When a man has ...</td>\n",
       "      <td>Nelson Mandela</td>\n",
       "      <td>Inspirational, Motivational, Death</td>\n",
       "    </tr>\n",
       "    <tr>\n",
       "      <th>4</th>\n",
       "      <td>You have to love a nation that celebrates its ...</td>\n",
       "      <td>Erma Bombeck</td>\n",
       "      <td>4th Of July, Food, Patriotic</td>\n",
       "    </tr>\n",
       "    <tr>\n",
       "      <th>...</th>\n",
       "      <td>...</td>\n",
       "      <td>...</td>\n",
       "      <td>...</td>\n",
       "    </tr>\n",
       "    <tr>\n",
       "      <th>995</th>\n",
       "      <td>Regret for the things we did can be tempered b...</td>\n",
       "      <td>Sydney J. Harris</td>\n",
       "      <td>Love, Inspirational, Motivational</td>\n",
       "    </tr>\n",
       "    <tr>\n",
       "      <th>996</th>\n",
       "      <td>America... just a nation of two hundred millio...</td>\n",
       "      <td>Hunter S. Thompson</td>\n",
       "      <td>Gun, Two, Qualms About</td>\n",
       "    </tr>\n",
       "    <tr>\n",
       "      <th>997</th>\n",
       "      <td>For every disciplined effort there is a multip...</td>\n",
       "      <td>Jim Rohn</td>\n",
       "      <td>Inspirational, Greatness, Best Effort</td>\n",
       "    </tr>\n",
       "    <tr>\n",
       "      <th>998</th>\n",
       "      <td>The spiritual journey is individual, highly pe...</td>\n",
       "      <td>Ram Dass</td>\n",
       "      <td>Spiritual, Truth, Yoga</td>\n",
       "    </tr>\n",
       "    <tr>\n",
       "      <th>999</th>\n",
       "      <td>The mind is not a vessel to be filled but a fi...</td>\n",
       "      <td>Plutarch</td>\n",
       "      <td>Inspirational, Leadership, Education</td>\n",
       "    </tr>\n",
       "  </tbody>\n",
       "</table>\n",
       "<p>1000 rows × 3 columns</p>\n",
       "</div>"
      ],
      "text/plain": [
       "                                                Quotes              Author  \\\n",
       "0    The essence of strategy is choosing what not t...      Michael Porter   \n",
       "1    One cannot and must not try to erase the past ...          Golda Meir   \n",
       "2    Patriotism means to stand by the country. It d...  Theodore Roosevelt   \n",
       "3    Death is something inevitable. When a man has ...      Nelson Mandela   \n",
       "4    You have to love a nation that celebrates its ...        Erma Bombeck   \n",
       "..                                                 ...                 ...   \n",
       "995  Regret for the things we did can be tempered b...    Sydney J. Harris   \n",
       "996  America... just a nation of two hundred millio...  Hunter S. Thompson   \n",
       "997  For every disciplined effort there is a multip...            Jim Rohn   \n",
       "998  The spiritual journey is individual, highly pe...            Ram Dass   \n",
       "999  The mind is not a vessel to be filled but a fi...            Plutarch   \n",
       "\n",
       "                               Type Of Quotes  \n",
       "0    Essence, Deep Thought, Transcendentalism  \n",
       "1                   Inspiration, Past, Trying  \n",
       "2                         Country, Peace, War  \n",
       "3          Inspirational, Motivational, Death  \n",
       "4                4th Of July, Food, Patriotic  \n",
       "..                                        ...  \n",
       "995         Love, Inspirational, Motivational  \n",
       "996                    Gun, Two, Qualms About  \n",
       "997     Inspirational, Greatness, Best Effort  \n",
       "998                    Spiritual, Truth, Yoga  \n",
       "999      Inspirational, Leadership, Education  \n",
       "\n",
       "[1000 rows x 3 columns]"
      ]
     },
     "execution_count": 119,
     "metadata": {},
     "output_type": "execute_result"
    }
   ],
   "source": [
    "# scrup first \"1000 data\" from given webpage.\n",
    "df = pd.DataFrame({\"Quotes\":Quotes,\"Author\":Author,\"Type Of Quotes\":Type_of_quotes})\n",
    "df[0:1000]"
   ]
  },
  {
   "cell_type": "code",
   "execution_count": 115,
   "id": "b906ae03",
   "metadata": {},
   "outputs": [
    {
     "name": "stdout",
     "output_type": "stream",
     "text": [
      "1000\n"
     ]
    }
   ],
   "source": [
    "print(len(Quotes))"
   ]
  },
  {
   "cell_type": "code",
   "execution_count": 116,
   "id": "8ab2a7af",
   "metadata": {},
   "outputs": [
    {
     "name": "stdout",
     "output_type": "stream",
     "text": [
      "1000\n"
     ]
    }
   ],
   "source": [
    "print(len(Author))"
   ]
  },
  {
   "cell_type": "code",
   "execution_count": 117,
   "id": "1f22028b",
   "metadata": {},
   "outputs": [
    {
     "name": "stdout",
     "output_type": "stream",
     "text": [
      "1000\n"
     ]
    }
   ],
   "source": [
    "print(len(Type_of_quotes))"
   ]
  },
  {
   "cell_type": "markdown",
   "id": "126baa8e",
   "metadata": {},
   "source": [
    "# Ans 7 "
   ]
  },
  {
   "cell_type": "code",
   "execution_count": 70,
   "id": "7d43f9bd",
   "metadata": {},
   "outputs": [],
   "source": [
    "import selenium\n",
    "import pandas as pd\n",
    "from selenium import webdriver\n",
    "import warnings\n",
    "warnings.filterwarnings('ignore')\n",
    "from selenium.webdriver.common.by import By\n",
    "import time"
   ]
  },
  {
   "cell_type": "code",
   "execution_count": 103,
   "id": "277203c4",
   "metadata": {},
   "outputs": [],
   "source": [
    "from bs4 import BeautifulSoup\n",
    "import requests"
   ]
  },
  {
   "cell_type": "code",
   "execution_count": 104,
   "id": "6ed4f0a2",
   "metadata": {},
   "outputs": [],
   "source": [
    "# send request for give link according to question.\n",
    "page = requests.get(\"https://www.jagranjosh.com/general-knowledge/list-of-all-prime-ministers-of-india-1473165149-1\")"
   ]
  },
  {
   "cell_type": "code",
   "execution_count": 105,
   "id": "d103dd08",
   "metadata": {},
   "outputs": [
    {
     "data": {
      "text/plain": [
       "<Response [200]>"
      ]
     },
     "execution_count": 105,
     "metadata": {},
     "output_type": "execute_result"
    }
   ],
   "source": [
    "page"
   ]
  },
  {
   "cell_type": "code",
   "execution_count": 106,
   "id": "ae70583a",
   "metadata": {},
   "outputs": [],
   "source": [
    "tables = soup.find_all('table')"
   ]
  },
  {
   "cell_type": "code",
   "execution_count": 107,
   "id": "16929500",
   "metadata": {},
   "outputs": [],
   "source": [
    "# create lists for store data of every list.\n",
    "Name =[]\n",
    "Term_of_office_join_date=[]\n",
    "Term_of_office_end_date=[]\n",
    "Remarks = []"
   ]
  },
  {
   "cell_type": "code",
   "execution_count": 108,
   "id": "f4df8768",
   "metadata": {},
   "outputs": [],
   "source": [
    "for row in tables[0].find_all('tr')[1:]:\n",
    "    name = row.find_all('td')[1].text.strip()\n",
    "    join_date = row.find_all('td')[3].text.strip()\n",
    "    end_date = row.find_all('td')[4].text.strip()\n",
    "    remark = row.find_all('td')[5].text.strip()\n",
    "    \n",
    "    Name.append(name)\n",
    "    Born_Dead.append(born_dead)\n",
    "    \n",
    "    Term_of_office_join_date.append(join_date)\n",
    "    Term_of_office_end_date.append(end_date)\n",
    "    Remarks.append(remark)"
   ]
  },
  {
   "cell_type": "code",
   "execution_count": 109,
   "id": "c29f7bb7",
   "metadata": {},
   "outputs": [
    {
     "data": {
      "text/html": [
       "<div>\n",
       "<style scoped>\n",
       "    .dataframe tbody tr th:only-of-type {\n",
       "        vertical-align: middle;\n",
       "    }\n",
       "\n",
       "    .dataframe tbody tr th {\n",
       "        vertical-align: top;\n",
       "    }\n",
       "\n",
       "    .dataframe thead th {\n",
       "        text-align: right;\n",
       "    }\n",
       "</style>\n",
       "<table border=\"1\" class=\"dataframe\">\n",
       "  <thead>\n",
       "    <tr style=\"text-align: right;\">\n",
       "      <th></th>\n",
       "      <th>Name</th>\n",
       "      <th>Term of Office By period</th>\n",
       "      <th>Term of By the duration</th>\n",
       "      <th>Remarks</th>\n",
       "    </tr>\n",
       "  </thead>\n",
       "  <tbody>\n",
       "    <tr>\n",
       "      <th>0</th>\n",
       "      <td>Jawaharlal Nehru</td>\n",
       "      <td>15 August1947</td>\n",
       "      <td>27 May 1964</td>\n",
       "      <td>16 years, 286 days</td>\n",
       "    </tr>\n",
       "    <tr>\n",
       "      <th>1</th>\n",
       "      <td>Gulzarilal Nanda</td>\n",
       "      <td>27 May 1964</td>\n",
       "      <td>9 June 1964</td>\n",
       "      <td>13 days</td>\n",
       "    </tr>\n",
       "    <tr>\n",
       "      <th>2</th>\n",
       "      <td>Lal Bahadur Shastri</td>\n",
       "      <td>9 June 1964</td>\n",
       "      <td>11 January 1966</td>\n",
       "      <td>1 year, 216 days</td>\n",
       "    </tr>\n",
       "    <tr>\n",
       "      <th>3</th>\n",
       "      <td>Gulzarilal Nanda</td>\n",
       "      <td>11 January 1966</td>\n",
       "      <td>24 January 1966</td>\n",
       "      <td>13 days</td>\n",
       "    </tr>\n",
       "    <tr>\n",
       "      <th>4</th>\n",
       "      <td>Indira Gandhi</td>\n",
       "      <td>24 January 1966</td>\n",
       "      <td>24 March 1977</td>\n",
       "      <td>11 years, 59 days</td>\n",
       "    </tr>\n",
       "    <tr>\n",
       "      <th>5</th>\n",
       "      <td>Morarji Desai</td>\n",
       "      <td>24 March 1977</td>\n",
       "      <td>28 July 1979</td>\n",
       "      <td>2 years, 126 days</td>\n",
       "    </tr>\n",
       "    <tr>\n",
       "      <th>6</th>\n",
       "      <td>Charan Singh</td>\n",
       "      <td>28 July 1979</td>\n",
       "      <td>14 January 1980</td>\n",
       "      <td>170 days</td>\n",
       "    </tr>\n",
       "    <tr>\n",
       "      <th>7</th>\n",
       "      <td>Indira Gandhi</td>\n",
       "      <td>14 January 1980</td>\n",
       "      <td>31 October 1984</td>\n",
       "      <td>4 years, 291 days</td>\n",
       "    </tr>\n",
       "    <tr>\n",
       "      <th>8</th>\n",
       "      <td>Rajiv Gandhi</td>\n",
       "      <td>31 October 1984</td>\n",
       "      <td>2 December 1989</td>\n",
       "      <td>5 years, 32 days</td>\n",
       "    </tr>\n",
       "    <tr>\n",
       "      <th>9</th>\n",
       "      <td>Vishwanath Pratap Singh</td>\n",
       "      <td>2 December 1989</td>\n",
       "      <td>10 November 1990</td>\n",
       "      <td>343 days</td>\n",
       "    </tr>\n",
       "    <tr>\n",
       "      <th>10</th>\n",
       "      <td>Chandra Shekhar</td>\n",
       "      <td>10 November 1990</td>\n",
       "      <td>21 June 1991</td>\n",
       "      <td>223 days</td>\n",
       "    </tr>\n",
       "    <tr>\n",
       "      <th>11</th>\n",
       "      <td>P. V. Narasimha Rao</td>\n",
       "      <td>21 June 1991</td>\n",
       "      <td>16 May 1996</td>\n",
       "      <td>4 years, 330 days</td>\n",
       "    </tr>\n",
       "    <tr>\n",
       "      <th>12</th>\n",
       "      <td>Atal Bihari Vajpayee</td>\n",
       "      <td>16 May 1996</td>\n",
       "      <td>1 June 1996</td>\n",
       "      <td>16 days</td>\n",
       "    </tr>\n",
       "    <tr>\n",
       "      <th>13</th>\n",
       "      <td>H. D. Deve Gowda</td>\n",
       "      <td>1 June 1996</td>\n",
       "      <td>21 April 1997</td>\n",
       "      <td>324 days</td>\n",
       "    </tr>\n",
       "    <tr>\n",
       "      <th>14</th>\n",
       "      <td>Inder Kumar Gujral</td>\n",
       "      <td>21 April 1997</td>\n",
       "      <td>19 March 1998</td>\n",
       "      <td>332 days</td>\n",
       "    </tr>\n",
       "    <tr>\n",
       "      <th>15</th>\n",
       "      <td>Atal Bihari Vajpayee</td>\n",
       "      <td>19 March 1998</td>\n",
       "      <td>22 May 2004</td>\n",
       "      <td>6 years, 64 days</td>\n",
       "    </tr>\n",
       "    <tr>\n",
       "      <th>16</th>\n",
       "      <td>Manmohan Singh</td>\n",
       "      <td>22 May 2004</td>\n",
       "      <td>26 May 2014</td>\n",
       "      <td>10 years, 4 days</td>\n",
       "    </tr>\n",
       "    <tr>\n",
       "      <th>17</th>\n",
       "      <td>Narendra Modi</td>\n",
       "      <td>26 May 2014</td>\n",
       "      <td>Incumbent</td>\n",
       "      <td>10 years, 87 days</td>\n",
       "    </tr>\n",
       "  </tbody>\n",
       "</table>\n",
       "</div>"
      ],
      "text/plain": [
       "                       Name Term of Office By period Term of By the duration  \\\n",
       "0          Jawaharlal Nehru            15 August1947             27 May 1964   \n",
       "1          Gulzarilal Nanda              27 May 1964             9 June 1964   \n",
       "2       Lal Bahadur Shastri              9 June 1964         11 January 1966   \n",
       "3          Gulzarilal Nanda          11 January 1966         24 January 1966   \n",
       "4             Indira Gandhi          24 January 1966           24 March 1977   \n",
       "5             Morarji Desai            24 March 1977            28 July 1979   \n",
       "6              Charan Singh             28 July 1979         14 January 1980   \n",
       "7             Indira Gandhi          14 January 1980         31 October 1984   \n",
       "8              Rajiv Gandhi          31 October 1984         2 December 1989   \n",
       "9   Vishwanath Pratap Singh          2 December 1989        10 November 1990   \n",
       "10          Chandra Shekhar         10 November 1990            21 June 1991   \n",
       "11      P. V. Narasimha Rao             21 June 1991             16 May 1996   \n",
       "12     Atal Bihari Vajpayee              16 May 1996             1 June 1996   \n",
       "13         H. D. Deve Gowda              1 June 1996           21 April 1997   \n",
       "14       Inder Kumar Gujral            21 April 1997           19 March 1998   \n",
       "15     Atal Bihari Vajpayee            19 March 1998             22 May 2004   \n",
       "16           Manmohan Singh              22 May 2004             26 May 2014   \n",
       "17            Narendra Modi              26 May 2014               Incumbent   \n",
       "\n",
       "               Remarks  \n",
       "0   16 years, 286 days  \n",
       "1              13 days  \n",
       "2     1 year, 216 days  \n",
       "3              13 days  \n",
       "4    11 years, 59 days  \n",
       "5    2 years, 126 days  \n",
       "6             170 days  \n",
       "7    4 years, 291 days  \n",
       "8     5 years, 32 days  \n",
       "9             343 days  \n",
       "10            223 days  \n",
       "11   4 years, 330 days  \n",
       "12             16 days  \n",
       "13            324 days  \n",
       "14            332 days  \n",
       "15    6 years, 64 days  \n",
       "16    10 years, 4 days  \n",
       "17   10 years, 87 days  "
      ]
     },
     "execution_count": 109,
     "metadata": {},
     "output_type": "execute_result"
    }
   ],
   "source": [
    "# create \"DataFrame\" for store data.\n",
    "df = pd.DataFrame({\"Name\":Name,\"Term of Office By period\":Term_of_office_join_date,\"Term of By the duration\":Term_of_office_end_date,\"Remarks\":Remarks})\n",
    "df"
   ]
  },
  {
   "cell_type": "code",
   "execution_count": null,
   "id": "5158b255",
   "metadata": {},
   "outputs": [],
   "source": []
  },
  {
   "cell_type": "markdown",
   "id": "124bdc93",
   "metadata": {},
   "source": [
    "# Ans 8"
   ]
  },
  {
   "cell_type": "code",
   "execution_count": 58,
   "id": "73d844a5",
   "metadata": {},
   "outputs": [],
   "source": [
    "import selenium\n",
    "import pandas as pd\n",
    "from selenium import webdriver\n",
    "import warnings\n",
    "warnings.filterwarnings('ignore')\n",
    "from selenium.webdriver.common.by import By\n",
    "import time"
   ]
  },
  {
   "cell_type": "code",
   "execution_count": 59,
   "id": "880bcbad",
   "metadata": {},
   "outputs": [],
   "source": [
    "# open \"Chrome\" webbrowser.\n",
    "driver = webdriver.Chrome()"
   ]
  },
  {
   "cell_type": "code",
   "execution_count": 60,
   "id": "2b9a231d",
   "metadata": {},
   "outputs": [],
   "source": [
    "# open given webpage.\n",
    "driver.get('https://www.motor1.com/')"
   ]
  },
  {
   "cell_type": "code",
   "execution_count": 61,
   "id": "d01cf595",
   "metadata": {},
   "outputs": [],
   "source": [
    "# search \"most expensive cars\" from given webpage.\n",
    "most_expensive_car = driver.find_element(By.ID,\"search_input\")\n",
    "most_expensive_car.send_keys('50 most expensive cars')"
   ]
  },
  {
   "cell_type": "code",
   "execution_count": 63,
   "id": "e4eb2484",
   "metadata": {},
   "outputs": [],
   "source": [
    "search = driver.find_element(By.XPATH,\"/html/body/div[9]/div[2]/div/div/div[3]/div/div/div/form/button[1]\")\n",
    "search.click()"
   ]
  },
  {
   "cell_type": "code",
   "execution_count": 64,
   "id": "6f8d18e5",
   "metadata": {},
   "outputs": [],
   "source": [
    "# now click on \"50 most expensive carsin the world\".\n",
    "expensive_car = driver.find_element(By.XPATH,'/html/body/div[9]/div[9]/div/div[1]/div/div/div[1]/div/div[1]/h3/a')\n",
    "expensive_car.click()"
   ]
  },
  {
   "cell_type": "code",
   "execution_count": 65,
   "id": "72730aea",
   "metadata": {},
   "outputs": [],
   "source": [
    "# create list.\n",
    "Car_name = []"
   ]
  },
  {
   "cell_type": "code",
   "execution_count": 66,
   "id": "17e57be3",
   "metadata": {},
   "outputs": [],
   "source": [
    "# scrup data from given webpage.\n",
    "car_tags = driver.find_elements(By.XPATH,'//h3[@class=\"subheader\"]')\n",
    "for i in car_tags[0:50]:\n",
    "    car = i.text\n",
    "    Car_name.append(car)"
   ]
  },
  {
   "cell_type": "code",
   "execution_count": 67,
   "id": "fd055462",
   "metadata": {},
   "outputs": [
    {
     "data": {
      "text/plain": [
       "['McLaren Senna GTR',\n",
       " 'Czinger 21C',\n",
       " 'Ferrari Monza',\n",
       " 'Gordon Murray T.33',\n",
       " 'Koenigsegg Gemera',\n",
       " 'Hennessey Venom F5',\n",
       " 'Bentley Bacalar',\n",
       " 'Hispano Suiza Carmen Boulogne',\n",
       " 'Bentley Mulliner Batur',\n",
       " 'SSC Tuatara',\n",
       " 'Lotus Evija',\n",
       " 'Aston Martin Vulcan',\n",
       " 'Delage D12',\n",
       " 'Ferrari Daytona SP3',\n",
       " 'McLaren Speedtail',\n",
       " 'Rimac Nevera',\n",
       " 'Pagani Utopia',\n",
       " 'Pininfarina Battista',\n",
       " 'Gordon Murray T.50',\n",
       " 'Lamborghini Countach',\n",
       " 'Hennessey Venom F5 Revolution',\n",
       " 'Mercedes-AMG Project One',\n",
       " 'Zenvo Aurora',\n",
       " 'Aston Martin Victor',\n",
       " 'Hennessey Venom F5 Roadster',\n",
       " 'Koenigsegg Jesko',\n",
       " 'Aspark Owl',\n",
       " 'Aston Martin Valkyrie',\n",
       " 'W Motors Lykan Hypersport',\n",
       " 'McLaren Solus',\n",
       " 'Pagani Huayra Evo R',\n",
       " 'Lamborghini Sian',\n",
       " 'Koenigsegg CC850',\n",
       " 'Bugatti Chiron Super Sport 300+',\n",
       " 'Gordon Murray Automotive T.50s Niki Lauda',\n",
       " 'Pagani Huayra Roadster BC',\n",
       " 'Lamborghini Veneno',\n",
       " 'Bugatti Bolide',\n",
       " 'Pininfarina B95 Speedster',\n",
       " 'Bugatti Mistral',\n",
       " 'Bugatti Divo',\n",
       " 'Pagani Huayra Imola',\n",
       " 'Pagani Codalunga',\n",
       " 'Mercedes-Maybach Exelero',\n",
       " 'Bugatti Centodieci',\n",
       " 'Bugatti Chiron Profilée',\n",
       " 'Rolls-Royce Sweptail',\n",
       " 'Bugatti La Voiture Noire',\n",
       " 'Rolls-Royce Boat Tail',\n",
       " 'Rolls-Royce La Rose Noire Droptail']"
      ]
     },
     "execution_count": 67,
     "metadata": {},
     "output_type": "execute_result"
    }
   ],
   "source": [
    "Car_name"
   ]
  },
  {
   "cell_type": "code",
   "execution_count": 69,
   "id": "b329efe2",
   "metadata": {},
   "outputs": [
    {
     "data": {
      "text/html": [
       "<div>\n",
       "<style scoped>\n",
       "    .dataframe tbody tr th:only-of-type {\n",
       "        vertical-align: middle;\n",
       "    }\n",
       "\n",
       "    .dataframe tbody tr th {\n",
       "        vertical-align: top;\n",
       "    }\n",
       "\n",
       "    .dataframe thead th {\n",
       "        text-align: right;\n",
       "    }\n",
       "</style>\n",
       "<table border=\"1\" class=\"dataframe\">\n",
       "  <thead>\n",
       "    <tr style=\"text-align: right;\">\n",
       "      <th></th>\n",
       "      <th>Car Name</th>\n",
       "    </tr>\n",
       "  </thead>\n",
       "  <tbody>\n",
       "    <tr>\n",
       "      <th>0</th>\n",
       "      <td>McLaren Senna GTR</td>\n",
       "    </tr>\n",
       "    <tr>\n",
       "      <th>1</th>\n",
       "      <td>Czinger 21C</td>\n",
       "    </tr>\n",
       "    <tr>\n",
       "      <th>2</th>\n",
       "      <td>Ferrari Monza</td>\n",
       "    </tr>\n",
       "    <tr>\n",
       "      <th>3</th>\n",
       "      <td>Gordon Murray T.33</td>\n",
       "    </tr>\n",
       "    <tr>\n",
       "      <th>4</th>\n",
       "      <td>Koenigsegg Gemera</td>\n",
       "    </tr>\n",
       "    <tr>\n",
       "      <th>5</th>\n",
       "      <td>Hennessey Venom F5</td>\n",
       "    </tr>\n",
       "    <tr>\n",
       "      <th>6</th>\n",
       "      <td>Bentley Bacalar</td>\n",
       "    </tr>\n",
       "    <tr>\n",
       "      <th>7</th>\n",
       "      <td>Hispano Suiza Carmen Boulogne</td>\n",
       "    </tr>\n",
       "    <tr>\n",
       "      <th>8</th>\n",
       "      <td>Bentley Mulliner Batur</td>\n",
       "    </tr>\n",
       "    <tr>\n",
       "      <th>9</th>\n",
       "      <td>SSC Tuatara</td>\n",
       "    </tr>\n",
       "    <tr>\n",
       "      <th>10</th>\n",
       "      <td>Lotus Evija</td>\n",
       "    </tr>\n",
       "    <tr>\n",
       "      <th>11</th>\n",
       "      <td>Aston Martin Vulcan</td>\n",
       "    </tr>\n",
       "    <tr>\n",
       "      <th>12</th>\n",
       "      <td>Delage D12</td>\n",
       "    </tr>\n",
       "    <tr>\n",
       "      <th>13</th>\n",
       "      <td>Ferrari Daytona SP3</td>\n",
       "    </tr>\n",
       "    <tr>\n",
       "      <th>14</th>\n",
       "      <td>McLaren Speedtail</td>\n",
       "    </tr>\n",
       "    <tr>\n",
       "      <th>15</th>\n",
       "      <td>Rimac Nevera</td>\n",
       "    </tr>\n",
       "    <tr>\n",
       "      <th>16</th>\n",
       "      <td>Pagani Utopia</td>\n",
       "    </tr>\n",
       "    <tr>\n",
       "      <th>17</th>\n",
       "      <td>Pininfarina Battista</td>\n",
       "    </tr>\n",
       "    <tr>\n",
       "      <th>18</th>\n",
       "      <td>Gordon Murray T.50</td>\n",
       "    </tr>\n",
       "    <tr>\n",
       "      <th>19</th>\n",
       "      <td>Lamborghini Countach</td>\n",
       "    </tr>\n",
       "    <tr>\n",
       "      <th>20</th>\n",
       "      <td>Hennessey Venom F5 Revolution</td>\n",
       "    </tr>\n",
       "    <tr>\n",
       "      <th>21</th>\n",
       "      <td>Mercedes-AMG Project One</td>\n",
       "    </tr>\n",
       "    <tr>\n",
       "      <th>22</th>\n",
       "      <td>Zenvo Aurora</td>\n",
       "    </tr>\n",
       "    <tr>\n",
       "      <th>23</th>\n",
       "      <td>Aston Martin Victor</td>\n",
       "    </tr>\n",
       "    <tr>\n",
       "      <th>24</th>\n",
       "      <td>Hennessey Venom F5 Roadster</td>\n",
       "    </tr>\n",
       "    <tr>\n",
       "      <th>25</th>\n",
       "      <td>Koenigsegg Jesko</td>\n",
       "    </tr>\n",
       "    <tr>\n",
       "      <th>26</th>\n",
       "      <td>Aspark Owl</td>\n",
       "    </tr>\n",
       "    <tr>\n",
       "      <th>27</th>\n",
       "      <td>Aston Martin Valkyrie</td>\n",
       "    </tr>\n",
       "    <tr>\n",
       "      <th>28</th>\n",
       "      <td>W Motors Lykan Hypersport</td>\n",
       "    </tr>\n",
       "    <tr>\n",
       "      <th>29</th>\n",
       "      <td>McLaren Solus</td>\n",
       "    </tr>\n",
       "    <tr>\n",
       "      <th>30</th>\n",
       "      <td>Pagani Huayra Evo R</td>\n",
       "    </tr>\n",
       "    <tr>\n",
       "      <th>31</th>\n",
       "      <td>Lamborghini Sian</td>\n",
       "    </tr>\n",
       "    <tr>\n",
       "      <th>32</th>\n",
       "      <td>Koenigsegg CC850</td>\n",
       "    </tr>\n",
       "    <tr>\n",
       "      <th>33</th>\n",
       "      <td>Bugatti Chiron Super Sport 300+</td>\n",
       "    </tr>\n",
       "    <tr>\n",
       "      <th>34</th>\n",
       "      <td>Gordon Murray Automotive T.50s Niki Lauda</td>\n",
       "    </tr>\n",
       "    <tr>\n",
       "      <th>35</th>\n",
       "      <td>Pagani Huayra Roadster BC</td>\n",
       "    </tr>\n",
       "    <tr>\n",
       "      <th>36</th>\n",
       "      <td>Lamborghini Veneno</td>\n",
       "    </tr>\n",
       "    <tr>\n",
       "      <th>37</th>\n",
       "      <td>Bugatti Bolide</td>\n",
       "    </tr>\n",
       "    <tr>\n",
       "      <th>38</th>\n",
       "      <td>Pininfarina B95 Speedster</td>\n",
       "    </tr>\n",
       "    <tr>\n",
       "      <th>39</th>\n",
       "      <td>Bugatti Mistral</td>\n",
       "    </tr>\n",
       "    <tr>\n",
       "      <th>40</th>\n",
       "      <td>Bugatti Divo</td>\n",
       "    </tr>\n",
       "    <tr>\n",
       "      <th>41</th>\n",
       "      <td>Pagani Huayra Imola</td>\n",
       "    </tr>\n",
       "    <tr>\n",
       "      <th>42</th>\n",
       "      <td>Pagani Codalunga</td>\n",
       "    </tr>\n",
       "    <tr>\n",
       "      <th>43</th>\n",
       "      <td>Mercedes-Maybach Exelero</td>\n",
       "    </tr>\n",
       "    <tr>\n",
       "      <th>44</th>\n",
       "      <td>Bugatti Centodieci</td>\n",
       "    </tr>\n",
       "    <tr>\n",
       "      <th>45</th>\n",
       "      <td>Bugatti Chiron Profilée</td>\n",
       "    </tr>\n",
       "    <tr>\n",
       "      <th>46</th>\n",
       "      <td>Rolls-Royce Sweptail</td>\n",
       "    </tr>\n",
       "    <tr>\n",
       "      <th>47</th>\n",
       "      <td>Bugatti La Voiture Noire</td>\n",
       "    </tr>\n",
       "    <tr>\n",
       "      <th>48</th>\n",
       "      <td>Rolls-Royce Boat Tail</td>\n",
       "    </tr>\n",
       "    <tr>\n",
       "      <th>49</th>\n",
       "      <td>Rolls-Royce La Rose Noire Droptail</td>\n",
       "    </tr>\n",
       "  </tbody>\n",
       "</table>\n",
       "</div>"
      ],
      "text/plain": [
       "                                     Car Name\n",
       "0                           McLaren Senna GTR\n",
       "1                                 Czinger 21C\n",
       "2                               Ferrari Monza\n",
       "3                          Gordon Murray T.33\n",
       "4                           Koenigsegg Gemera\n",
       "5                          Hennessey Venom F5\n",
       "6                             Bentley Bacalar\n",
       "7               Hispano Suiza Carmen Boulogne\n",
       "8                      Bentley Mulliner Batur\n",
       "9                                 SSC Tuatara\n",
       "10                                Lotus Evija\n",
       "11                        Aston Martin Vulcan\n",
       "12                                 Delage D12\n",
       "13                        Ferrari Daytona SP3\n",
       "14                          McLaren Speedtail\n",
       "15                               Rimac Nevera\n",
       "16                              Pagani Utopia\n",
       "17                       Pininfarina Battista\n",
       "18                         Gordon Murray T.50\n",
       "19                       Lamborghini Countach\n",
       "20              Hennessey Venom F5 Revolution\n",
       "21                   Mercedes-AMG Project One\n",
       "22                               Zenvo Aurora\n",
       "23                        Aston Martin Victor\n",
       "24                Hennessey Venom F5 Roadster\n",
       "25                           Koenigsegg Jesko\n",
       "26                                 Aspark Owl\n",
       "27                      Aston Martin Valkyrie\n",
       "28                  W Motors Lykan Hypersport\n",
       "29                              McLaren Solus\n",
       "30                        Pagani Huayra Evo R\n",
       "31                           Lamborghini Sian\n",
       "32                           Koenigsegg CC850\n",
       "33            Bugatti Chiron Super Sport 300+\n",
       "34  Gordon Murray Automotive T.50s Niki Lauda\n",
       "35                  Pagani Huayra Roadster BC\n",
       "36                         Lamborghini Veneno\n",
       "37                             Bugatti Bolide\n",
       "38                  Pininfarina B95 Speedster\n",
       "39                            Bugatti Mistral\n",
       "40                               Bugatti Divo\n",
       "41                        Pagani Huayra Imola\n",
       "42                           Pagani Codalunga\n",
       "43                   Mercedes-Maybach Exelero\n",
       "44                         Bugatti Centodieci\n",
       "45                    Bugatti Chiron Profilée\n",
       "46                       Rolls-Royce Sweptail\n",
       "47                   Bugatti La Voiture Noire\n",
       "48                      Rolls-Royce Boat Tail\n",
       "49         Rolls-Royce La Rose Noire Droptail"
      ]
     },
     "execution_count": 69,
     "metadata": {},
     "output_type": "execute_result"
    }
   ],
   "source": [
    "df = pd.DataFrame({\"Car Name\":Car_name})\n",
    "df"
   ]
  },
  {
   "cell_type": "code",
   "execution_count": null,
   "id": "c1ca2da2",
   "metadata": {},
   "outputs": [],
   "source": []
  }
 ],
 "metadata": {
  "kernelspec": {
   "display_name": "Python 3 (ipykernel)",
   "language": "python",
   "name": "python3"
  },
  "language_info": {
   "codemirror_mode": {
    "name": "ipython",
    "version": 3
   },
   "file_extension": ".py",
   "mimetype": "text/x-python",
   "name": "python",
   "nbconvert_exporter": "python",
   "pygments_lexer": "ipython3",
   "version": "3.11.5"
  }
 },
 "nbformat": 4,
 "nbformat_minor": 5
}
